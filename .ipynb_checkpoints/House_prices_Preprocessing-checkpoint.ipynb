{
 "cells": [
  {
   "cell_type": "markdown",
   "metadata": {},
   "source": [
    "# House Prices - Advanced Regression Techniques\n",
    "\n",
    "## Preprocessing"
   ]
  },
  {
   "cell_type": "markdown",
   "metadata": {},
   "source": [
    "## Data loading"
   ]
  },
  {
   "cell_type": "code",
   "execution_count": 1,
   "metadata": {},
   "outputs": [],
   "source": [
    "import pandas as pd\n",
    "import numpy as np\n",
    "import matplotlib as mpl\n",
    "import matplotlib.pyplot as plt\n",
    "import seaborn as sns\n",
    "import sklearn"
   ]
  },
  {
   "cell_type": "code",
   "execution_count": 2,
   "metadata": {},
   "outputs": [],
   "source": [
    "df = pd.read_csv('./Initial_data/train.csv')"
   ]
  },
  {
   "cell_type": "code",
   "execution_count": 3,
   "metadata": {},
   "outputs": [
    {
     "data": {
      "text/html": [
       "<div>\n",
       "<style scoped>\n",
       "    .dataframe tbody tr th:only-of-type {\n",
       "        vertical-align: middle;\n",
       "    }\n",
       "\n",
       "    .dataframe tbody tr th {\n",
       "        vertical-align: top;\n",
       "    }\n",
       "\n",
       "    .dataframe thead th {\n",
       "        text-align: right;\n",
       "    }\n",
       "</style>\n",
       "<table border=\"1\" class=\"dataframe\">\n",
       "  <thead>\n",
       "    <tr style=\"text-align: right;\">\n",
       "      <th></th>\n",
       "      <th>Id</th>\n",
       "      <th>MSSubClass</th>\n",
       "      <th>MSZoning</th>\n",
       "      <th>LotFrontage</th>\n",
       "      <th>LotArea</th>\n",
       "      <th>Street</th>\n",
       "      <th>Alley</th>\n",
       "      <th>LotShape</th>\n",
       "      <th>LandContour</th>\n",
       "      <th>Utilities</th>\n",
       "      <th>...</th>\n",
       "      <th>PoolArea</th>\n",
       "      <th>PoolQC</th>\n",
       "      <th>Fence</th>\n",
       "      <th>MiscFeature</th>\n",
       "      <th>MiscVal</th>\n",
       "      <th>MoSold</th>\n",
       "      <th>YrSold</th>\n",
       "      <th>SaleType</th>\n",
       "      <th>SaleCondition</th>\n",
       "      <th>SalePrice</th>\n",
       "    </tr>\n",
       "  </thead>\n",
       "  <tbody>\n",
       "    <tr>\n",
       "      <th>0</th>\n",
       "      <td>1</td>\n",
       "      <td>60</td>\n",
       "      <td>RL</td>\n",
       "      <td>65.0</td>\n",
       "      <td>8450</td>\n",
       "      <td>Pave</td>\n",
       "      <td>NaN</td>\n",
       "      <td>Reg</td>\n",
       "      <td>Lvl</td>\n",
       "      <td>AllPub</td>\n",
       "      <td>...</td>\n",
       "      <td>0</td>\n",
       "      <td>NaN</td>\n",
       "      <td>NaN</td>\n",
       "      <td>NaN</td>\n",
       "      <td>0</td>\n",
       "      <td>2</td>\n",
       "      <td>2008</td>\n",
       "      <td>WD</td>\n",
       "      <td>Normal</td>\n",
       "      <td>208500</td>\n",
       "    </tr>\n",
       "    <tr>\n",
       "      <th>1</th>\n",
       "      <td>2</td>\n",
       "      <td>20</td>\n",
       "      <td>RL</td>\n",
       "      <td>80.0</td>\n",
       "      <td>9600</td>\n",
       "      <td>Pave</td>\n",
       "      <td>NaN</td>\n",
       "      <td>Reg</td>\n",
       "      <td>Lvl</td>\n",
       "      <td>AllPub</td>\n",
       "      <td>...</td>\n",
       "      <td>0</td>\n",
       "      <td>NaN</td>\n",
       "      <td>NaN</td>\n",
       "      <td>NaN</td>\n",
       "      <td>0</td>\n",
       "      <td>5</td>\n",
       "      <td>2007</td>\n",
       "      <td>WD</td>\n",
       "      <td>Normal</td>\n",
       "      <td>181500</td>\n",
       "    </tr>\n",
       "    <tr>\n",
       "      <th>2</th>\n",
       "      <td>3</td>\n",
       "      <td>60</td>\n",
       "      <td>RL</td>\n",
       "      <td>68.0</td>\n",
       "      <td>11250</td>\n",
       "      <td>Pave</td>\n",
       "      <td>NaN</td>\n",
       "      <td>IR1</td>\n",
       "      <td>Lvl</td>\n",
       "      <td>AllPub</td>\n",
       "      <td>...</td>\n",
       "      <td>0</td>\n",
       "      <td>NaN</td>\n",
       "      <td>NaN</td>\n",
       "      <td>NaN</td>\n",
       "      <td>0</td>\n",
       "      <td>9</td>\n",
       "      <td>2008</td>\n",
       "      <td>WD</td>\n",
       "      <td>Normal</td>\n",
       "      <td>223500</td>\n",
       "    </tr>\n",
       "    <tr>\n",
       "      <th>3</th>\n",
       "      <td>4</td>\n",
       "      <td>70</td>\n",
       "      <td>RL</td>\n",
       "      <td>60.0</td>\n",
       "      <td>9550</td>\n",
       "      <td>Pave</td>\n",
       "      <td>NaN</td>\n",
       "      <td>IR1</td>\n",
       "      <td>Lvl</td>\n",
       "      <td>AllPub</td>\n",
       "      <td>...</td>\n",
       "      <td>0</td>\n",
       "      <td>NaN</td>\n",
       "      <td>NaN</td>\n",
       "      <td>NaN</td>\n",
       "      <td>0</td>\n",
       "      <td>2</td>\n",
       "      <td>2006</td>\n",
       "      <td>WD</td>\n",
       "      <td>Abnorml</td>\n",
       "      <td>140000</td>\n",
       "    </tr>\n",
       "    <tr>\n",
       "      <th>4</th>\n",
       "      <td>5</td>\n",
       "      <td>60</td>\n",
       "      <td>RL</td>\n",
       "      <td>84.0</td>\n",
       "      <td>14260</td>\n",
       "      <td>Pave</td>\n",
       "      <td>NaN</td>\n",
       "      <td>IR1</td>\n",
       "      <td>Lvl</td>\n",
       "      <td>AllPub</td>\n",
       "      <td>...</td>\n",
       "      <td>0</td>\n",
       "      <td>NaN</td>\n",
       "      <td>NaN</td>\n",
       "      <td>NaN</td>\n",
       "      <td>0</td>\n",
       "      <td>12</td>\n",
       "      <td>2008</td>\n",
       "      <td>WD</td>\n",
       "      <td>Normal</td>\n",
       "      <td>250000</td>\n",
       "    </tr>\n",
       "  </tbody>\n",
       "</table>\n",
       "<p>5 rows × 81 columns</p>\n",
       "</div>"
      ],
      "text/plain": [
       "   Id  MSSubClass MSZoning  LotFrontage  LotArea Street Alley LotShape  \\\n",
       "0   1          60       RL         65.0     8450   Pave   NaN      Reg   \n",
       "1   2          20       RL         80.0     9600   Pave   NaN      Reg   \n",
       "2   3          60       RL         68.0    11250   Pave   NaN      IR1   \n",
       "3   4          70       RL         60.0     9550   Pave   NaN      IR1   \n",
       "4   5          60       RL         84.0    14260   Pave   NaN      IR1   \n",
       "\n",
       "  LandContour Utilities  ... PoolArea PoolQC Fence MiscFeature MiscVal MoSold  \\\n",
       "0         Lvl    AllPub  ...        0    NaN   NaN         NaN       0      2   \n",
       "1         Lvl    AllPub  ...        0    NaN   NaN         NaN       0      5   \n",
       "2         Lvl    AllPub  ...        0    NaN   NaN         NaN       0      9   \n",
       "3         Lvl    AllPub  ...        0    NaN   NaN         NaN       0      2   \n",
       "4         Lvl    AllPub  ...        0    NaN   NaN         NaN       0     12   \n",
       "\n",
       "  YrSold  SaleType  SaleCondition  SalePrice  \n",
       "0   2008        WD         Normal     208500  \n",
       "1   2007        WD         Normal     181500  \n",
       "2   2008        WD         Normal     223500  \n",
       "3   2006        WD        Abnorml     140000  \n",
       "4   2008        WD         Normal     250000  \n",
       "\n",
       "[5 rows x 81 columns]"
      ]
     },
     "execution_count": 3,
     "metadata": {},
     "output_type": "execute_result"
    }
   ],
   "source": [
    "df.head()"
   ]
  },
  {
   "cell_type": "code",
   "execution_count": 4,
   "metadata": {},
   "outputs": [
    {
     "data": {
      "text/plain": [
       "(1460, 81)"
      ]
     },
     "execution_count": 4,
     "metadata": {},
     "output_type": "execute_result"
    }
   ],
   "source": [
    "df.shape"
   ]
  },
  {
   "cell_type": "code",
   "execution_count": 6,
   "metadata": {},
   "outputs": [
    {
     "name": "stdout",
     "output_type": "stream",
     "text": [
      "<class 'pandas.core.frame.DataFrame'>\n",
      "RangeIndex: 1460 entries, 0 to 1459\n",
      "Data columns (total 81 columns):\n",
      " #   Column         Non-Null Count  Dtype  \n",
      "---  ------         --------------  -----  \n",
      " 0   Id             1460 non-null   int64  \n",
      " 1   MSSubClass     1460 non-null   int64  \n",
      " 2   MSZoning       1460 non-null   object \n",
      " 3   LotFrontage    1201 non-null   float64\n",
      " 4   LotArea        1460 non-null   int64  \n",
      " 5   Street         1460 non-null   object \n",
      " 6   Alley          91 non-null     object \n",
      " 7   LotShape       1460 non-null   object \n",
      " 8   LandContour    1460 non-null   object \n",
      " 9   Utilities      1460 non-null   object \n",
      " 10  LotConfig      1460 non-null   object \n",
      " 11  LandSlope      1460 non-null   object \n",
      " 12  Neighborhood   1460 non-null   object \n",
      " 13  Condition1     1460 non-null   object \n",
      " 14  Condition2     1460 non-null   object \n",
      " 15  BldgType       1460 non-null   object \n",
      " 16  HouseStyle     1460 non-null   object \n",
      " 17  OverallQual    1460 non-null   int64  \n",
      " 18  OverallCond    1460 non-null   int64  \n",
      " 19  YearBuilt      1460 non-null   int64  \n",
      " 20  YearRemodAdd   1460 non-null   int64  \n",
      " 21  RoofStyle      1460 non-null   object \n",
      " 22  RoofMatl       1460 non-null   object \n",
      " 23  Exterior1st    1460 non-null   object \n",
      " 24  Exterior2nd    1460 non-null   object \n",
      " 25  MasVnrType     1452 non-null   object \n",
      " 26  MasVnrArea     1452 non-null   float64\n",
      " 27  ExterQual      1460 non-null   object \n",
      " 28  ExterCond      1460 non-null   object \n",
      " 29  Foundation     1460 non-null   object \n",
      " 30  BsmtQual       1423 non-null   object \n",
      " 31  BsmtCond       1423 non-null   object \n",
      " 32  BsmtExposure   1422 non-null   object \n",
      " 33  BsmtFinType1   1423 non-null   object \n",
      " 34  BsmtFinSF1     1460 non-null   int64  \n",
      " 35  BsmtFinType2   1422 non-null   object \n",
      " 36  BsmtFinSF2     1460 non-null   int64  \n",
      " 37  BsmtUnfSF      1460 non-null   int64  \n",
      " 38  TotalBsmtSF    1460 non-null   int64  \n",
      " 39  Heating        1460 non-null   object \n",
      " 40  HeatingQC      1460 non-null   object \n",
      " 41  CentralAir     1460 non-null   object \n",
      " 42  Electrical     1459 non-null   object \n",
      " 43  1stFlrSF       1460 non-null   int64  \n",
      " 44  2ndFlrSF       1460 non-null   int64  \n",
      " 45  LowQualFinSF   1460 non-null   int64  \n",
      " 46  GrLivArea      1460 non-null   int64  \n",
      " 47  BsmtFullBath   1460 non-null   int64  \n",
      " 48  BsmtHalfBath   1460 non-null   int64  \n",
      " 49  FullBath       1460 non-null   int64  \n",
      " 50  HalfBath       1460 non-null   int64  \n",
      " 51  BedroomAbvGr   1460 non-null   int64  \n",
      " 52  KitchenAbvGr   1460 non-null   int64  \n",
      " 53  KitchenQual    1460 non-null   object \n",
      " 54  TotRmsAbvGrd   1460 non-null   int64  \n",
      " 55  Functional     1460 non-null   object \n",
      " 56  Fireplaces     1460 non-null   int64  \n",
      " 57  FireplaceQu    770 non-null    object \n",
      " 58  GarageType     1379 non-null   object \n",
      " 59  GarageYrBlt    1379 non-null   float64\n",
      " 60  GarageFinish   1379 non-null   object \n",
      " 61  GarageCars     1460 non-null   int64  \n",
      " 62  GarageArea     1460 non-null   int64  \n",
      " 63  GarageQual     1379 non-null   object \n",
      " 64  GarageCond     1379 non-null   object \n",
      " 65  PavedDrive     1460 non-null   object \n",
      " 66  WoodDeckSF     1460 non-null   int64  \n",
      " 67  OpenPorchSF    1460 non-null   int64  \n",
      " 68  EnclosedPorch  1460 non-null   int64  \n",
      " 69  3SsnPorch      1460 non-null   int64  \n",
      " 70  ScreenPorch    1460 non-null   int64  \n",
      " 71  PoolArea       1460 non-null   int64  \n",
      " 72  PoolQC         7 non-null      object \n",
      " 73  Fence          281 non-null    object \n",
      " 74  MiscFeature    54 non-null     object \n",
      " 75  MiscVal        1460 non-null   int64  \n",
      " 76  MoSold         1460 non-null   int64  \n",
      " 77  YrSold         1460 non-null   int64  \n",
      " 78  SaleType       1460 non-null   object \n",
      " 79  SaleCondition  1460 non-null   object \n",
      " 80  SalePrice      1460 non-null   int64  \n",
      "dtypes: float64(3), int64(35), object(43)\n",
      "memory usage: 924.0+ KB\n"
     ]
    }
   ],
   "source": [
    "df.info()"
   ]
  },
  {
   "cell_type": "code",
   "execution_count": 5,
   "metadata": {},
   "outputs": [],
   "source": [
    "features = [\n",
    "    'MSSubClass',\n",
    "    'MSZoning',\n",
    "    'LotFrontage',\n",
    "    'LotArea',\n",
    "    'Street',\n",
    "    'Alley',\n",
    "    'LotShape',\n",
    "    'LandContour',\n",
    "    'Utilities',\n",
    "    'LotConfig',\n",
    "    'LandSlope',\n",
    "    'Neighborhood',\n",
    "    'Condition1',\n",
    "    'Condition2',\n",
    "    'BldgType',\n",
    "    'HouseStyle',\n",
    "    'OverallQual',\n",
    "    'OverallCond',\n",
    "    'YearBuilt',\n",
    "    'YearRemodAdd',\n",
    "    'RoofStyle',\n",
    "    'RoofMatl',\n",
    "    'Exterior1st',\n",
    "    'Exterior2nd',\n",
    "    'MasVnrType',\n",
    "    'MasVnrArea',\n",
    "    'ExterQual',\n",
    "    'ExterCond',\n",
    "    'Foundation',\n",
    "    'BsmtQual',\n",
    "    'BsmtCond',\n",
    "    'BsmtExposure',\n",
    "    'BsmtFinType1',\n",
    "    'BsmtFinSF1',\n",
    "    'BsmtFinType2',\n",
    "    'BsmtFinSF2',\n",
    "    'BsmtUnfSF',\n",
    "    'TotalBsmtSF',\n",
    "    'Heating',\n",
    "    'HeatingQC',\n",
    "    'CentralAir',\n",
    "    'Electrical',\n",
    "    '1stFlrSF',\n",
    "    '2ndFlrSF',\n",
    "    'LowQualFinSF',\n",
    "    'GrLivArea',\n",
    "    'BsmtFullBath',\n",
    "    'BsmtHalfBath',\n",
    "    'FullBath',\n",
    "    'HalfBath',\n",
    "    'BedroomAbvGr',\n",
    "    'KitchenAbvGr',\n",
    "    'KitchenQual',\n",
    "    'TotRmsAbvGrd',\n",
    "    'Functional',\n",
    "    'Fireplaces',\n",
    "    'FireplaceQu',\n",
    "    'GarageType',\n",
    "    'GarageYrBlt',\n",
    "    'GarageFinish',\n",
    "    'GarageCars',\n",
    "    'GarageArea',\n",
    "    'GarageQual',\n",
    "    'GarageCond',\n",
    "    'PavedDrive',\n",
    "    'WoodDeckSF',\n",
    "    'OpenPorchSF',\n",
    "    'EnclosedPorch',\n",
    "    '3SsnPorch',\n",
    "    'ScreenPorch',\n",
    "    'PoolArea',\n",
    "    'PoolQC',\n",
    "    'Fence',\n",
    "    'MiscFeature',\n",
    "    'MiscVal',\n",
    "    'MoSold',\n",
    "    'YrSold',\n",
    "    'SaleType',\n",
    "    'SaleCondition'\n",
    "]"
   ]
  },
  {
   "cell_type": "markdown",
   "metadata": {},
   "source": [
    "### Preprocessing (eliminate nan)"
   ]
  },
  {
   "cell_type": "code",
   "execution_count": 7,
   "metadata": {},
   "outputs": [],
   "source": [
    "df_test = pd.read_csv('./Initial_data/test.csv')"
   ]
  },
  {
   "cell_type": "code",
   "execution_count": 8,
   "metadata": {},
   "outputs": [],
   "source": [
    "df_test['SalePrice'] = 0 # starts with id 1461"
   ]
  },
  {
   "cell_type": "code",
   "execution_count": 9,
   "metadata": {},
   "outputs": [
    {
     "data": {
      "text/html": [
       "<div>\n",
       "<style scoped>\n",
       "    .dataframe tbody tr th:only-of-type {\n",
       "        vertical-align: middle;\n",
       "    }\n",
       "\n",
       "    .dataframe tbody tr th {\n",
       "        vertical-align: top;\n",
       "    }\n",
       "\n",
       "    .dataframe thead th {\n",
       "        text-align: right;\n",
       "    }\n",
       "</style>\n",
       "<table border=\"1\" class=\"dataframe\">\n",
       "  <thead>\n",
       "    <tr style=\"text-align: right;\">\n",
       "      <th></th>\n",
       "      <th>Id</th>\n",
       "      <th>MSSubClass</th>\n",
       "      <th>MSZoning</th>\n",
       "      <th>LotFrontage</th>\n",
       "      <th>LotArea</th>\n",
       "      <th>Street</th>\n",
       "      <th>Alley</th>\n",
       "      <th>LotShape</th>\n",
       "      <th>LandContour</th>\n",
       "      <th>Utilities</th>\n",
       "      <th>...</th>\n",
       "      <th>PoolArea</th>\n",
       "      <th>PoolQC</th>\n",
       "      <th>Fence</th>\n",
       "      <th>MiscFeature</th>\n",
       "      <th>MiscVal</th>\n",
       "      <th>MoSold</th>\n",
       "      <th>YrSold</th>\n",
       "      <th>SaleType</th>\n",
       "      <th>SaleCondition</th>\n",
       "      <th>SalePrice</th>\n",
       "    </tr>\n",
       "  </thead>\n",
       "  <tbody>\n",
       "    <tr>\n",
       "      <th>0</th>\n",
       "      <td>1</td>\n",
       "      <td>60</td>\n",
       "      <td>RL</td>\n",
       "      <td>65.0</td>\n",
       "      <td>8450</td>\n",
       "      <td>Pave</td>\n",
       "      <td>NaN</td>\n",
       "      <td>Reg</td>\n",
       "      <td>Lvl</td>\n",
       "      <td>AllPub</td>\n",
       "      <td>...</td>\n",
       "      <td>0</td>\n",
       "      <td>NaN</td>\n",
       "      <td>NaN</td>\n",
       "      <td>NaN</td>\n",
       "      <td>0</td>\n",
       "      <td>2</td>\n",
       "      <td>2008</td>\n",
       "      <td>WD</td>\n",
       "      <td>Normal</td>\n",
       "      <td>208500</td>\n",
       "    </tr>\n",
       "    <tr>\n",
       "      <th>1</th>\n",
       "      <td>2</td>\n",
       "      <td>20</td>\n",
       "      <td>RL</td>\n",
       "      <td>80.0</td>\n",
       "      <td>9600</td>\n",
       "      <td>Pave</td>\n",
       "      <td>NaN</td>\n",
       "      <td>Reg</td>\n",
       "      <td>Lvl</td>\n",
       "      <td>AllPub</td>\n",
       "      <td>...</td>\n",
       "      <td>0</td>\n",
       "      <td>NaN</td>\n",
       "      <td>NaN</td>\n",
       "      <td>NaN</td>\n",
       "      <td>0</td>\n",
       "      <td>5</td>\n",
       "      <td>2007</td>\n",
       "      <td>WD</td>\n",
       "      <td>Normal</td>\n",
       "      <td>181500</td>\n",
       "    </tr>\n",
       "    <tr>\n",
       "      <th>2</th>\n",
       "      <td>3</td>\n",
       "      <td>60</td>\n",
       "      <td>RL</td>\n",
       "      <td>68.0</td>\n",
       "      <td>11250</td>\n",
       "      <td>Pave</td>\n",
       "      <td>NaN</td>\n",
       "      <td>IR1</td>\n",
       "      <td>Lvl</td>\n",
       "      <td>AllPub</td>\n",
       "      <td>...</td>\n",
       "      <td>0</td>\n",
       "      <td>NaN</td>\n",
       "      <td>NaN</td>\n",
       "      <td>NaN</td>\n",
       "      <td>0</td>\n",
       "      <td>9</td>\n",
       "      <td>2008</td>\n",
       "      <td>WD</td>\n",
       "      <td>Normal</td>\n",
       "      <td>223500</td>\n",
       "    </tr>\n",
       "    <tr>\n",
       "      <th>3</th>\n",
       "      <td>4</td>\n",
       "      <td>70</td>\n",
       "      <td>RL</td>\n",
       "      <td>60.0</td>\n",
       "      <td>9550</td>\n",
       "      <td>Pave</td>\n",
       "      <td>NaN</td>\n",
       "      <td>IR1</td>\n",
       "      <td>Lvl</td>\n",
       "      <td>AllPub</td>\n",
       "      <td>...</td>\n",
       "      <td>0</td>\n",
       "      <td>NaN</td>\n",
       "      <td>NaN</td>\n",
       "      <td>NaN</td>\n",
       "      <td>0</td>\n",
       "      <td>2</td>\n",
       "      <td>2006</td>\n",
       "      <td>WD</td>\n",
       "      <td>Abnorml</td>\n",
       "      <td>140000</td>\n",
       "    </tr>\n",
       "    <tr>\n",
       "      <th>4</th>\n",
       "      <td>5</td>\n",
       "      <td>60</td>\n",
       "      <td>RL</td>\n",
       "      <td>84.0</td>\n",
       "      <td>14260</td>\n",
       "      <td>Pave</td>\n",
       "      <td>NaN</td>\n",
       "      <td>IR1</td>\n",
       "      <td>Lvl</td>\n",
       "      <td>AllPub</td>\n",
       "      <td>...</td>\n",
       "      <td>0</td>\n",
       "      <td>NaN</td>\n",
       "      <td>NaN</td>\n",
       "      <td>NaN</td>\n",
       "      <td>0</td>\n",
       "      <td>12</td>\n",
       "      <td>2008</td>\n",
       "      <td>WD</td>\n",
       "      <td>Normal</td>\n",
       "      <td>250000</td>\n",
       "    </tr>\n",
       "    <tr>\n",
       "      <th>...</th>\n",
       "      <td>...</td>\n",
       "      <td>...</td>\n",
       "      <td>...</td>\n",
       "      <td>...</td>\n",
       "      <td>...</td>\n",
       "      <td>...</td>\n",
       "      <td>...</td>\n",
       "      <td>...</td>\n",
       "      <td>...</td>\n",
       "      <td>...</td>\n",
       "      <td>...</td>\n",
       "      <td>...</td>\n",
       "      <td>...</td>\n",
       "      <td>...</td>\n",
       "      <td>...</td>\n",
       "      <td>...</td>\n",
       "      <td>...</td>\n",
       "      <td>...</td>\n",
       "      <td>...</td>\n",
       "      <td>...</td>\n",
       "      <td>...</td>\n",
       "    </tr>\n",
       "    <tr>\n",
       "      <th>1454</th>\n",
       "      <td>2915</td>\n",
       "      <td>160</td>\n",
       "      <td>RM</td>\n",
       "      <td>21.0</td>\n",
       "      <td>1936</td>\n",
       "      <td>Pave</td>\n",
       "      <td>NaN</td>\n",
       "      <td>Reg</td>\n",
       "      <td>Lvl</td>\n",
       "      <td>AllPub</td>\n",
       "      <td>...</td>\n",
       "      <td>0</td>\n",
       "      <td>NaN</td>\n",
       "      <td>NaN</td>\n",
       "      <td>NaN</td>\n",
       "      <td>0</td>\n",
       "      <td>6</td>\n",
       "      <td>2006</td>\n",
       "      <td>WD</td>\n",
       "      <td>Normal</td>\n",
       "      <td>0</td>\n",
       "    </tr>\n",
       "    <tr>\n",
       "      <th>1455</th>\n",
       "      <td>2916</td>\n",
       "      <td>160</td>\n",
       "      <td>RM</td>\n",
       "      <td>21.0</td>\n",
       "      <td>1894</td>\n",
       "      <td>Pave</td>\n",
       "      <td>NaN</td>\n",
       "      <td>Reg</td>\n",
       "      <td>Lvl</td>\n",
       "      <td>AllPub</td>\n",
       "      <td>...</td>\n",
       "      <td>0</td>\n",
       "      <td>NaN</td>\n",
       "      <td>NaN</td>\n",
       "      <td>NaN</td>\n",
       "      <td>0</td>\n",
       "      <td>4</td>\n",
       "      <td>2006</td>\n",
       "      <td>WD</td>\n",
       "      <td>Abnorml</td>\n",
       "      <td>0</td>\n",
       "    </tr>\n",
       "    <tr>\n",
       "      <th>1456</th>\n",
       "      <td>2917</td>\n",
       "      <td>20</td>\n",
       "      <td>RL</td>\n",
       "      <td>160.0</td>\n",
       "      <td>20000</td>\n",
       "      <td>Pave</td>\n",
       "      <td>NaN</td>\n",
       "      <td>Reg</td>\n",
       "      <td>Lvl</td>\n",
       "      <td>AllPub</td>\n",
       "      <td>...</td>\n",
       "      <td>0</td>\n",
       "      <td>NaN</td>\n",
       "      <td>NaN</td>\n",
       "      <td>NaN</td>\n",
       "      <td>0</td>\n",
       "      <td>9</td>\n",
       "      <td>2006</td>\n",
       "      <td>WD</td>\n",
       "      <td>Abnorml</td>\n",
       "      <td>0</td>\n",
       "    </tr>\n",
       "    <tr>\n",
       "      <th>1457</th>\n",
       "      <td>2918</td>\n",
       "      <td>85</td>\n",
       "      <td>RL</td>\n",
       "      <td>62.0</td>\n",
       "      <td>10441</td>\n",
       "      <td>Pave</td>\n",
       "      <td>NaN</td>\n",
       "      <td>Reg</td>\n",
       "      <td>Lvl</td>\n",
       "      <td>AllPub</td>\n",
       "      <td>...</td>\n",
       "      <td>0</td>\n",
       "      <td>NaN</td>\n",
       "      <td>MnPrv</td>\n",
       "      <td>Shed</td>\n",
       "      <td>700</td>\n",
       "      <td>7</td>\n",
       "      <td>2006</td>\n",
       "      <td>WD</td>\n",
       "      <td>Normal</td>\n",
       "      <td>0</td>\n",
       "    </tr>\n",
       "    <tr>\n",
       "      <th>1458</th>\n",
       "      <td>2919</td>\n",
       "      <td>60</td>\n",
       "      <td>RL</td>\n",
       "      <td>74.0</td>\n",
       "      <td>9627</td>\n",
       "      <td>Pave</td>\n",
       "      <td>NaN</td>\n",
       "      <td>Reg</td>\n",
       "      <td>Lvl</td>\n",
       "      <td>AllPub</td>\n",
       "      <td>...</td>\n",
       "      <td>0</td>\n",
       "      <td>NaN</td>\n",
       "      <td>NaN</td>\n",
       "      <td>NaN</td>\n",
       "      <td>0</td>\n",
       "      <td>11</td>\n",
       "      <td>2006</td>\n",
       "      <td>WD</td>\n",
       "      <td>Normal</td>\n",
       "      <td>0</td>\n",
       "    </tr>\n",
       "  </tbody>\n",
       "</table>\n",
       "<p>2919 rows × 81 columns</p>\n",
       "</div>"
      ],
      "text/plain": [
       "        Id  MSSubClass MSZoning  LotFrontage  LotArea Street Alley LotShape  \\\n",
       "0        1          60       RL         65.0     8450   Pave   NaN      Reg   \n",
       "1        2          20       RL         80.0     9600   Pave   NaN      Reg   \n",
       "2        3          60       RL         68.0    11250   Pave   NaN      IR1   \n",
       "3        4          70       RL         60.0     9550   Pave   NaN      IR1   \n",
       "4        5          60       RL         84.0    14260   Pave   NaN      IR1   \n",
       "...    ...         ...      ...          ...      ...    ...   ...      ...   \n",
       "1454  2915         160       RM         21.0     1936   Pave   NaN      Reg   \n",
       "1455  2916         160       RM         21.0     1894   Pave   NaN      Reg   \n",
       "1456  2917          20       RL        160.0    20000   Pave   NaN      Reg   \n",
       "1457  2918          85       RL         62.0    10441   Pave   NaN      Reg   \n",
       "1458  2919          60       RL         74.0     9627   Pave   NaN      Reg   \n",
       "\n",
       "     LandContour Utilities  ... PoolArea PoolQC  Fence MiscFeature MiscVal  \\\n",
       "0            Lvl    AllPub  ...        0    NaN    NaN         NaN       0   \n",
       "1            Lvl    AllPub  ...        0    NaN    NaN         NaN       0   \n",
       "2            Lvl    AllPub  ...        0    NaN    NaN         NaN       0   \n",
       "3            Lvl    AllPub  ...        0    NaN    NaN         NaN       0   \n",
       "4            Lvl    AllPub  ...        0    NaN    NaN         NaN       0   \n",
       "...          ...       ...  ...      ...    ...    ...         ...     ...   \n",
       "1454         Lvl    AllPub  ...        0    NaN    NaN         NaN       0   \n",
       "1455         Lvl    AllPub  ...        0    NaN    NaN         NaN       0   \n",
       "1456         Lvl    AllPub  ...        0    NaN    NaN         NaN       0   \n",
       "1457         Lvl    AllPub  ...        0    NaN  MnPrv        Shed     700   \n",
       "1458         Lvl    AllPub  ...        0    NaN    NaN         NaN       0   \n",
       "\n",
       "     MoSold YrSold  SaleType  SaleCondition  SalePrice  \n",
       "0         2   2008        WD         Normal     208500  \n",
       "1         5   2007        WD         Normal     181500  \n",
       "2         9   2008        WD         Normal     223500  \n",
       "3         2   2006        WD        Abnorml     140000  \n",
       "4        12   2008        WD         Normal     250000  \n",
       "...     ...    ...       ...            ...        ...  \n",
       "1454      6   2006        WD         Normal          0  \n",
       "1455      4   2006        WD        Abnorml          0  \n",
       "1456      9   2006        WD        Abnorml          0  \n",
       "1457      7   2006        WD         Normal          0  \n",
       "1458     11   2006        WD         Normal          0  \n",
       "\n",
       "[2919 rows x 81 columns]"
      ]
     },
     "execution_count": 9,
     "metadata": {},
     "output_type": "execute_result"
    }
   ],
   "source": [
    "df_united = pd.concat([df, df_test])\n",
    "df_united"
   ]
  },
  {
   "cell_type": "code",
   "execution_count": 10,
   "metadata": {},
   "outputs": [],
   "source": [
    "# replacing error in 'GarageYrBlt', id - 2593\n",
    "df_united['GarageYrBlt'] = df_united['GarageYrBlt'].replace([2207], [2007])"
   ]
  },
  {
   "cell_type": "code",
   "execution_count": 11,
   "metadata": {},
   "outputs": [
    {
     "data": {
      "text/plain": [
       "['MSZoning',\n",
       " 'LotFrontage',\n",
       " 'Alley',\n",
       " 'Utilities',\n",
       " 'Exterior1st',\n",
       " 'Exterior2nd',\n",
       " 'MasVnrType',\n",
       " 'MasVnrArea',\n",
       " 'BsmtQual',\n",
       " 'BsmtCond',\n",
       " 'BsmtExposure',\n",
       " 'BsmtFinType1',\n",
       " 'BsmtFinSF1',\n",
       " 'BsmtFinType2',\n",
       " 'BsmtFinSF2',\n",
       " 'BsmtUnfSF',\n",
       " 'TotalBsmtSF',\n",
       " 'Electrical',\n",
       " 'BsmtFullBath',\n",
       " 'BsmtHalfBath',\n",
       " 'KitchenQual',\n",
       " 'Functional',\n",
       " 'FireplaceQu',\n",
       " 'GarageType',\n",
       " 'GarageYrBlt',\n",
       " 'GarageFinish',\n",
       " 'GarageCars',\n",
       " 'GarageArea',\n",
       " 'GarageQual',\n",
       " 'GarageCond',\n",
       " 'PoolQC',\n",
       " 'Fence',\n",
       " 'MiscFeature',\n",
       " 'SaleType']"
      ]
     },
     "execution_count": 11,
     "metadata": {},
     "output_type": "execute_result"
    }
   ],
   "source": [
    "df_united.columns[df_united.isnull().any()].tolist()"
   ]
  },
  {
   "cell_type": "code",
   "execution_count": 12,
   "metadata": {},
   "outputs": [],
   "source": [
    "features_with_nulls = [\n",
    "    'LotFrontage', # 486 NaNs, need to think how to fill them\n",
    "]\n",
    "features_with_nulls_to_mean = [\n",
    "    'MasVnrArea', # 23 NaNs, will make them mean\n",
    "    'BsmtFinSF1', # 1 NaNs, will make them mean\n",
    "    'BsmtFinSF2', # 1 NaNs, will make them mean\n",
    "    'BsmtUnfSF', # 1 NaNs, will make them mean\n",
    "    'TotalBsmtSF', # 1 NaNs, will make them mean\n",
    "    'BsmtFullBath', # 2 NaNs, will make them mean\n",
    "    'BsmtHalfBath', # 2 NaNs, will make them mean\n",
    "    'GarageYrBlt', # 159 NaNs, will make them mean\n",
    "    'GarageCars', # 1 NaNs, will make them mean\n",
    "    'GarageArea', # 1 NaNs, will make them mean\n",
    "]\n",
    "features_with_nulls_to_undef = [\n",
    "    'MSZoning', # 4 NaNs, will make them 'Undefined'\n",
    "    'Utilities', # 2 NaNs, will make them 'Undefined'\n",
    "    'Exterior1st', # 1 NaNs, will make them 'Undefined'\n",
    "    'Exterior2nd', # 1 NaNs, will make them 'Undefined'\n",
    "    'Electrical', # 1 NaNs, will make them 'Undefined'\n",
    "    'KitchenQual', # 1 NaNs, will make them 'Undefined'\n",
    "]\n",
    "features_with_nulls_to_no_basement = [\n",
    "    'BsmtQual', # 81 NaNs, will make them 'No_basement'\n",
    "    'BsmtCond', # 82 NaNs, will make them 'No_basement'\n",
    "    'BsmtExposure', # 82 NaNs, will make them 'No_basement'\n",
    "    'BsmtFinType1', # 79 NaNs, will make them 'No_basement'\n",
    "    'BsmtFinType2', # 80 NaNs, will make them 'No_basement'\n",
    "    'FireplaceQu', # 1420 NaNs, will make them 'No_basement'\n",
    "]\n",
    "features_with_nulls_to_no_garage = [\n",
    "    'GarageType', # 157 NaNs, will make them 'No_garage'\n",
    "    'GarageFinish', # 159 NaNs, will make them 'No_garage'\n",
    "    'GarageQual', # 159 NaNs, will make them 'No_garage'\n",
    "    'GarageCond', # 159 NaNs, will make them 'No_garage'\n",
    "]\n",
    "features_with_nulls_to_other = [\n",
    "    'PoolQC', # 2909 NaNs, will make them 'No_pool'\n",
    "    'Fence', # 2348 NaNs, will make them 'No_fence'\n",
    "    'MiscFeature', # 2814 NaNs, will make them 'No_MiscFeature'\n",
    "    'SaleType'# 1 NaNs, will make them 'Oth'\n",
    "    'Alley', # 2721 NaNs, will make them 'No_alley_access'\n",
    "    'MasVnrType', # 24 NaNs, will make them 'No_Masonry_veneer'\n",
    "    'Functional', # 2 NaNs, will make them 'Typ'\n",
    "]"
   ]
  },
  {
   "cell_type": "code",
   "execution_count": 13,
   "metadata": {},
   "outputs": [
    {
     "data": {
      "text/plain": [
       "['LotFrontage']"
      ]
     },
     "execution_count": 13,
     "metadata": {},
     "output_type": "execute_result"
    }
   ],
   "source": [
    "for i in features_with_nulls_to_undef:\n",
    "    df_united[i].fillna('Undefined', inplace = True)\n",
    "\n",
    "for i in features_with_nulls_to_no_basement:\n",
    "    df_united[i].fillna('No_basement', inplace = True)\n",
    "\n",
    "for i in features_with_nulls_to_mean:\n",
    "    df_united[i].fillna(df_united[i].mean(), inplace = True)\n",
    "\n",
    "for i in features_with_nulls_to_no_garage:\n",
    "    df_united[i].fillna('No_garage', inplace = True)\n",
    "\n",
    "# Filling NaN in united DF\n",
    "df_united['PoolQC'].fillna('No_pool', inplace = True)\n",
    "df_united['Fence'].fillna('No_fence', inplace = True)\n",
    "df_united['MiscFeature'].fillna('No_MiscFeature', inplace = True)\n",
    "df_united['SaleType'].fillna('Oth', inplace = True)\n",
    "df_united['Alley'].fillna('No_alley_access', inplace = True)\n",
    "df_united['MasVnrType'].fillna('No_Masonry_veneer', inplace = True)\n",
    "df_united['Functional'].fillna('Typ', inplace = True)\n",
    "\n",
    "# Filling NaN in united origin DF (train)\n",
    "for i in features_with_nulls_to_undef:\n",
    "    df[i].fillna('Undefined', inplace = True)\n",
    "\n",
    "for i in features_with_nulls_to_no_basement:\n",
    "    df[i].fillna('No_basement', inplace = True)\n",
    "\n",
    "for i in features_with_nulls_to_mean:\n",
    "    df[i].fillna(df[i].mean(), inplace = True)\n",
    "\n",
    "for i in features_with_nulls_to_no_garage:\n",
    "    df[i].fillna('No_garage', inplace = True)\n",
    "\n",
    "df['PoolQC'].fillna('No_pool', inplace = True)\n",
    "df['Fence'].fillna('No_fence', inplace = True)\n",
    "df['MiscFeature'].fillna('No_MiscFeature', inplace = True)\n",
    "df['SaleType'].fillna('Oth', inplace = True)\n",
    "df['Alley'].fillna('No_alley_access', inplace = True)\n",
    "df['MasVnrType'].fillna('No_Masonry_veneer', inplace = True)\n",
    "df['Functional'].fillna('Typ', inplace = True)\n",
    "\n",
    "df_united.columns[df.isnull().any()].tolist() # unpreprocessed feature"
   ]
  },
  {
   "cell_type": "markdown",
   "metadata": {},
   "source": [
    "### Finding categorical features and one hot encoding"
   ]
  },
  {
   "cell_type": "code",
   "execution_count": 14,
   "metadata": {},
   "outputs": [
    {
     "name": "stdout",
     "output_type": "stream",
     "text": [
      "Id\n",
      "[   1    2    3 ... 2917 2918 2919]\n",
      "int64\n",
      "\n",
      "MSSubClass\n",
      "[ 60  20  70  50 190  45  90 120  30  85  80 160  75 180  40 150]\n",
      "int64\n",
      "\n",
      "MSZoning\n",
      "['RL' 'RM' 'C (all)' 'FV' 'RH' 'Undefined']\n",
      "object\n",
      "\n",
      "LotFrontage\n",
      "[ 65.  80.  68.  60.  84.  85.  75.  nan  51.  50.  70.  91.  72.  66.\n",
      " 101.  57.  44. 110.  98.  47. 108. 112.  74. 115.  61.  48.  33.  52.\n",
      " 100.  24.  89.  63.  76.  81.  95.  69.  21.  32.  78. 121. 122.  40.\n",
      " 105.  73.  77.  64.  94.  34.  90.  55.  88.  82.  71. 120. 107.  92.\n",
      " 134.  62.  86. 141.  97.  54.  41.  79. 174.  99.  67.  83.  43. 103.\n",
      "  93.  30. 129. 140.  35.  37. 118.  87. 116. 150. 111.  49.  96.  59.\n",
      "  36.  56. 102.  58.  38. 109. 130.  53. 137.  45. 106. 104.  42.  39.\n",
      " 144. 114. 128. 149. 313. 168. 182. 138. 160. 152. 124. 153.  46.  26.\n",
      "  25. 119.  31.  28. 117. 113. 125. 135. 136.  22. 123. 195. 155. 126.\n",
      " 200. 131. 133.]\n",
      "float64\n",
      "\n",
      "LotArea\n",
      "[ 8450  9600 11250 ...  1894 20000 10441]\n",
      "int64\n",
      "\n",
      "Street\n",
      "['Pave' 'Grvl']\n",
      "object\n",
      "\n",
      "Alley\n",
      "['No_alley_access' 'Grvl' 'Pave']\n",
      "object\n",
      "\n",
      "LotShape\n",
      "['Reg' 'IR1' 'IR2' 'IR3']\n",
      "object\n",
      "\n",
      "LandContour\n",
      "['Lvl' 'Bnk' 'Low' 'HLS']\n",
      "object\n",
      "\n",
      "Utilities\n",
      "['AllPub' 'NoSeWa' 'Undefined']\n",
      "object\n",
      "\n",
      "LotConfig\n",
      "['Inside' 'FR2' 'Corner' 'CulDSac' 'FR3']\n",
      "object\n",
      "\n",
      "LandSlope\n",
      "['Gtl' 'Mod' 'Sev']\n",
      "object\n",
      "\n",
      "Neighborhood\n",
      "['CollgCr' 'Veenker' 'Crawfor' 'NoRidge' 'Mitchel' 'Somerst' 'NWAmes'\n",
      " 'OldTown' 'BrkSide' 'Sawyer' 'NridgHt' 'NAmes' 'SawyerW' 'IDOTRR'\n",
      " 'MeadowV' 'Edwards' 'Timber' 'Gilbert' 'StoneBr' 'ClearCr' 'NPkVill'\n",
      " 'Blmngtn' 'BrDale' 'SWISU' 'Blueste']\n",
      "object\n",
      "\n",
      "Condition1\n",
      "['Norm' 'Feedr' 'PosN' 'Artery' 'RRAe' 'RRNn' 'RRAn' 'PosA' 'RRNe']\n",
      "object\n",
      "\n",
      "Condition2\n",
      "['Norm' 'Artery' 'RRNn' 'Feedr' 'PosN' 'PosA' 'RRAn' 'RRAe']\n",
      "object\n",
      "\n",
      "BldgType\n",
      "['1Fam' '2fmCon' 'Duplex' 'TwnhsE' 'Twnhs']\n",
      "object\n",
      "\n",
      "HouseStyle\n",
      "['2Story' '1Story' '1.5Fin' '1.5Unf' 'SFoyer' 'SLvl' '2.5Unf' '2.5Fin']\n",
      "object\n",
      "\n",
      "OverallQual\n",
      "[ 7  6  8  5  9  4 10  3  1  2]\n",
      "int64\n",
      "\n",
      "OverallCond\n",
      "[5 8 6 7 4 2 3 9 1]\n",
      "int64\n",
      "\n",
      "YearBuilt\n",
      "[2003 1976 2001 1915 2000 1993 2004 1973 1931 1939 1965 2005 1962 2006\n",
      " 1960 1929 1970 1967 1958 1930 2002 1968 2007 1951 1957 1927 1920 1966\n",
      " 1959 1994 1954 1953 1955 1983 1975 1997 1934 1963 1981 1964 1999 1972\n",
      " 1921 1945 1982 1998 1956 1948 1910 1995 1991 2009 1950 1961 1977 1985\n",
      " 1979 1885 1919 1990 1969 1935 1988 1971 1952 1936 1923 1924 1984 1926\n",
      " 1940 1941 1987 1986 2008 1908 1892 1916 1932 1918 1912 1947 1925 1900\n",
      " 1980 1989 1992 1949 1880 1928 1978 1922 1996 2010 1946 1913 1937 1942\n",
      " 1938 1974 1893 1914 1906 1890 1898 1904 1882 1875 1911 1917 1872 1905\n",
      " 1907 1896 1902 1895 1879 1901]\n",
      "int64\n",
      "\n",
      "YearRemodAdd\n",
      "[2003 1976 2002 1970 2000 1995 2005 1973 1950 1965 2006 1962 2007 1960\n",
      " 2001 1967 2004 2008 1997 1959 1990 1955 1983 1980 1966 1963 1987 1964\n",
      " 1972 1996 1998 1989 1953 1956 1968 1981 1992 2009 1982 1961 1993 1999\n",
      " 1985 1979 1977 1969 1958 1991 1971 1952 1975 2010 1984 1986 1994 1988\n",
      " 1954 1957 1951 1978 1974]\n",
      "int64\n",
      "\n",
      "RoofStyle\n",
      "['Gable' 'Hip' 'Gambrel' 'Mansard' 'Flat' 'Shed']\n",
      "object\n",
      "\n",
      "RoofMatl\n",
      "['CompShg' 'WdShngl' 'Metal' 'WdShake' 'Membran' 'Tar&Grv' 'Roll'\n",
      " 'ClyTile']\n",
      "object\n",
      "\n",
      "Exterior1st\n",
      "['VinylSd' 'MetalSd' 'Wd Sdng' 'HdBoard' 'BrkFace' 'WdShing' 'CemntBd'\n",
      " 'Plywood' 'AsbShng' 'Stucco' 'BrkComm' 'AsphShn' 'Stone' 'ImStucc'\n",
      " 'CBlock' 'Undefined']\n",
      "object\n",
      "\n",
      "Exterior2nd\n",
      "['VinylSd' 'MetalSd' 'Wd Shng' 'HdBoard' 'Plywood' 'Wd Sdng' 'CmentBd'\n",
      " 'BrkFace' 'Stucco' 'AsbShng' 'Brk Cmn' 'ImStucc' 'AsphShn' 'Stone'\n",
      " 'Other' 'CBlock' 'Undefined']\n",
      "object\n",
      "\n",
      "MasVnrType\n",
      "['BrkFace' 'None' 'Stone' 'BrkCmn' 'No_Masonry_veneer']\n",
      "object\n",
      "\n",
      "MasVnrArea\n",
      "[1.96000000e+02 0.00000000e+00 1.62000000e+02 3.50000000e+02\n",
      " 1.86000000e+02 2.40000000e+02 2.86000000e+02 3.06000000e+02\n",
      " 2.12000000e+02 1.80000000e+02 3.80000000e+02 2.81000000e+02\n",
      " 6.40000000e+02 2.00000000e+02 2.46000000e+02 1.32000000e+02\n",
      " 6.50000000e+02 1.01000000e+02 4.12000000e+02 2.72000000e+02\n",
      " 4.56000000e+02 1.03100000e+03 1.78000000e+02 5.73000000e+02\n",
      " 3.44000000e+02 2.87000000e+02 1.67000000e+02 1.11500000e+03\n",
      " 4.00000000e+01 1.04000000e+02 5.76000000e+02 4.43000000e+02\n",
      " 4.68000000e+02 6.60000000e+01 2.20000000e+01 2.84000000e+02\n",
      " 7.60000000e+01 2.03000000e+02 6.80000000e+01 1.83000000e+02\n",
      " 4.80000000e+01 2.80000000e+01 3.36000000e+02 6.00000000e+02\n",
      " 7.68000000e+02 4.80000000e+02 2.20000000e+02 1.84000000e+02\n",
      " 1.12900000e+03 1.16000000e+02 1.35000000e+02 2.66000000e+02\n",
      " 8.50000000e+01 3.09000000e+02 1.36000000e+02 2.88000000e+02\n",
      " 7.00000000e+01 3.20000000e+02 5.00000000e+01 1.20000000e+02\n",
      " 4.36000000e+02 2.52000000e+02 8.40000000e+01 6.64000000e+02\n",
      " 2.26000000e+02 3.00000000e+02 6.53000000e+02 1.12000000e+02\n",
      " 4.91000000e+02 2.68000000e+02 7.48000000e+02 9.80000000e+01\n",
      " 2.75000000e+02 1.38000000e+02 2.05000000e+02 2.62000000e+02\n",
      " 1.28000000e+02 2.60000000e+02 1.53000000e+02 6.40000000e+01\n",
      " 3.12000000e+02 1.60000000e+01 9.22000000e+02 1.42000000e+02\n",
      " 2.90000000e+02 1.27000000e+02 5.06000000e+02 2.97000000e+02\n",
      " 1.02201312e+02 6.04000000e+02 2.54000000e+02 3.60000000e+01\n",
      " 1.02000000e+02 4.72000000e+02 4.81000000e+02 1.08000000e+02\n",
      " 3.02000000e+02 1.72000000e+02 3.99000000e+02 2.70000000e+02\n",
      " 4.60000000e+01 2.10000000e+02 1.74000000e+02 3.48000000e+02\n",
      " 3.15000000e+02 2.99000000e+02 3.40000000e+02 1.66000000e+02\n",
      " 7.20000000e+01 3.10000000e+01 3.40000000e+01 2.38000000e+02\n",
      " 1.60000000e+03 3.65000000e+02 5.60000000e+01 1.50000000e+02\n",
      " 2.78000000e+02 2.56000000e+02 2.25000000e+02 3.70000000e+02\n",
      " 3.88000000e+02 1.75000000e+02 2.96000000e+02 1.46000000e+02\n",
      " 1.13000000e+02 1.76000000e+02 6.16000000e+02 3.00000000e+01\n",
      " 1.06000000e+02 8.70000000e+02 3.62000000e+02 5.30000000e+02\n",
      " 5.00000000e+02 5.10000000e+02 2.47000000e+02 3.05000000e+02\n",
      " 2.55000000e+02 1.25000000e+02 1.00000000e+02 4.32000000e+02\n",
      " 1.26000000e+02 4.73000000e+02 7.40000000e+01 1.45000000e+02\n",
      " 2.32000000e+02 3.76000000e+02 4.20000000e+01 1.61000000e+02\n",
      " 1.10000000e+02 1.80000000e+01 2.24000000e+02 2.48000000e+02\n",
      " 8.00000000e+01 3.04000000e+02 2.15000000e+02 7.72000000e+02\n",
      " 4.35000000e+02 3.78000000e+02 5.62000000e+02 1.68000000e+02\n",
      " 8.90000000e+01 2.85000000e+02 3.60000000e+02 9.40000000e+01\n",
      " 3.33000000e+02 9.21000000e+02 7.62000000e+02 5.94000000e+02\n",
      " 2.19000000e+02 1.88000000e+02 4.79000000e+02 5.84000000e+02\n",
      " 1.82000000e+02 2.50000000e+02 2.92000000e+02 2.45000000e+02\n",
      " 2.07000000e+02 8.20000000e+01 9.70000000e+01 3.35000000e+02\n",
      " 2.08000000e+02 4.20000000e+02 1.70000000e+02 4.59000000e+02\n",
      " 2.80000000e+02 9.90000000e+01 1.92000000e+02 2.04000000e+02\n",
      " 2.33000000e+02 1.56000000e+02 4.52000000e+02 5.13000000e+02\n",
      " 2.61000000e+02 1.64000000e+02 2.59000000e+02 2.09000000e+02\n",
      " 2.63000000e+02 2.16000000e+02 3.51000000e+02 6.60000000e+02\n",
      " 3.81000000e+02 5.40000000e+01 5.28000000e+02 2.58000000e+02\n",
      " 4.64000000e+02 5.70000000e+01 1.47000000e+02 1.17000000e+03\n",
      " 2.93000000e+02 6.30000000e+02 4.66000000e+02 1.09000000e+02\n",
      " 4.10000000e+01 1.60000000e+02 2.89000000e+02 6.51000000e+02\n",
      " 1.69000000e+02 9.50000000e+01 4.42000000e+02 2.02000000e+02\n",
      " 3.38000000e+02 8.94000000e+02 3.28000000e+02 6.73000000e+02\n",
      " 6.03000000e+02 1.00000000e+00 3.75000000e+02 9.00000000e+01\n",
      " 3.80000000e+01 1.57000000e+02 1.10000000e+01 1.40000000e+02\n",
      " 1.30000000e+02 1.48000000e+02 8.60000000e+02 4.24000000e+02\n",
      " 1.04700000e+03 2.43000000e+02 8.16000000e+02 3.87000000e+02\n",
      " 2.23000000e+02 1.58000000e+02 1.37000000e+02 1.15000000e+02\n",
      " 1.89000000e+02 2.74000000e+02 1.17000000e+02 6.00000000e+01\n",
      " 1.22000000e+02 9.20000000e+01 4.15000000e+02 7.60000000e+02\n",
      " 2.70000000e+01 7.50000000e+01 3.61000000e+02 1.05000000e+02\n",
      " 3.42000000e+02 2.98000000e+02 5.41000000e+02 2.36000000e+02\n",
      " 1.44000000e+02 4.23000000e+02 4.40000000e+01 1.51000000e+02\n",
      " 9.75000000e+02 4.50000000e+02 2.30000000e+02 5.71000000e+02\n",
      " 2.40000000e+01 5.30000000e+01 2.06000000e+02 1.40000000e+01\n",
      " 3.24000000e+02 2.95000000e+02 3.96000000e+02 6.70000000e+01\n",
      " 1.54000000e+02 4.25000000e+02 4.50000000e+01 1.37800000e+03\n",
      " 3.37000000e+02 1.49000000e+02 1.43000000e+02 5.10000000e+01\n",
      " 1.71000000e+02 2.34000000e+02 6.30000000e+01 7.66000000e+02\n",
      " 3.20000000e+01 8.10000000e+01 1.63000000e+02 5.54000000e+02\n",
      " 2.18000000e+02 6.32000000e+02 1.14000000e+02 5.67000000e+02\n",
      " 3.59000000e+02 4.51000000e+02 6.21000000e+02 7.88000000e+02\n",
      " 8.60000000e+01 7.96000000e+02 3.91000000e+02 2.28000000e+02\n",
      " 8.80000000e+01 1.65000000e+02 4.28000000e+02 4.10000000e+02\n",
      " 5.64000000e+02 3.68000000e+02 3.18000000e+02 5.79000000e+02\n",
      " 6.50000000e+01 7.05000000e+02 4.08000000e+02 2.44000000e+02\n",
      " 1.23000000e+02 3.66000000e+02 7.31000000e+02 4.48000000e+02\n",
      " 2.94000000e+02 3.10000000e+02 2.37000000e+02 4.26000000e+02\n",
      " 9.60000000e+01 4.38000000e+02 1.94000000e+02 1.19000000e+02\n",
      " 2.00000000e+01 5.04000000e+02 4.92000000e+02 6.15000000e+02\n",
      " 1.09500000e+03 1.15900000e+03 2.65000000e+02 9.10000000e+01\n",
      " 7.71000000e+02 4.70000000e+01 1.77000000e+02 3.71000000e+02\n",
      " 4.30000000e+02 4.40000000e+02 2.29000000e+02 7.26000000e+02\n",
      " 4.18000000e+02 7.24000000e+02 3.83000000e+02 7.30000000e+02\n",
      " 4.70000000e+02 3.08000000e+02 6.34000000e+02 3.72000000e+02\n",
      " 1.98000000e+02 1.21000000e+02 2.64000000e+02 1.41000000e+02\n",
      " 2.83000000e+02 5.09000000e+02 2.17000000e+02 3.00000000e+00\n",
      " 6.57000000e+02 1.24000000e+02 4.44000000e+02 2.30000000e+01\n",
      " 2.42000000e+02 3.64000000e+02 3.52000000e+02 4.06000000e+02\n",
      " 4.02000000e+02 4.22000000e+02 3.56000000e+02 6.80000000e+02\n",
      " 1.11000000e+03 2.21000000e+02 7.14000000e+02 6.47000000e+02\n",
      " 1.29000000e+03 4.95000000e+02 5.68000000e+02 1.79000000e+02\n",
      " 1.05000000e+03 1.87000000e+02 5.20000000e+01 2.76000000e+02\n",
      " 3.90000000e+01 1.90000000e+02 2.51000000e+02 2.27000000e+02\n",
      " 1.34000000e+02 2.22000000e+02 5.80000000e+01 6.68000000e+02\n",
      " 6.74000000e+02 1.97000000e+02 7.10000000e+02 9.45000000e+02\n",
      " 5.49000000e+02 2.53000000e+02 4.00000000e+02 9.70000000e+02\n",
      " 5.02000000e+02 3.94000000e+02 2.35000000e+02 5.15000000e+02\n",
      " 5.26000000e+02 7.54000000e+02 3.53000000e+02 5.25000000e+02\n",
      " 8.70000000e+01 2.91000000e+02 6.90000000e+01 2.79000000e+02\n",
      " 3.23000000e+02 2.14000000e+02 5.19000000e+02 1.22400000e+03\n",
      " 6.52000000e+02 8.86000000e+02 9.02000000e+02 4.34000000e+02\n",
      " 6.62000000e+02 7.34000000e+02 5.50000000e+02 5.14000000e+02\n",
      " 3.85000000e+02 5.18000000e+02 5.72000000e+02 3.22000000e+02\n",
      " 8.77000000e+02 3.97000000e+02 7.38000000e+02 5.01000000e+02\n",
      " 1.18000000e+02 6.92000000e+02 3.32000000e+02 5.22000000e+02\n",
      " 3.79000000e+02 5.32000000e+02 6.20000000e+01 1.99000000e+02\n",
      " 3.55000000e+02 4.05000000e+02 3.27000000e+02 2.57000000e+02\n",
      " 3.82000000e+02]\n",
      "float64\n",
      "\n",
      "ExterQual\n",
      "['Gd' 'TA' 'Ex' 'Fa']\n",
      "object\n",
      "\n",
      "ExterCond\n",
      "['TA' 'Gd' 'Fa' 'Po' 'Ex']\n",
      "object\n",
      "\n",
      "Foundation\n",
      "['PConc' 'CBlock' 'BrkTil' 'Wood' 'Slab' 'Stone']\n",
      "object\n",
      "\n",
      "BsmtQual\n",
      "['Gd' 'TA' 'Ex' 'No_basement' 'Fa']\n",
      "object\n",
      "\n",
      "BsmtCond\n",
      "['TA' 'Gd' 'No_basement' 'Fa' 'Po']\n",
      "object\n",
      "\n",
      "BsmtExposure\n",
      "['No' 'Gd' 'Mn' 'Av' 'No_basement']\n",
      "object\n",
      "\n",
      "BsmtFinType1\n",
      "['GLQ' 'ALQ' 'Unf' 'Rec' 'BLQ' 'No_basement' 'LwQ']\n",
      "object\n",
      "\n",
      "BsmtFinSF1\n",
      "[7.06000000e+02 9.78000000e+02 4.86000000e+02 2.16000000e+02\n",
      " 6.55000000e+02 7.32000000e+02 1.36900000e+03 8.59000000e+02\n",
      " 0.00000000e+00 8.51000000e+02 9.06000000e+02 9.98000000e+02\n",
      " 7.37000000e+02 7.33000000e+02 5.78000000e+02 6.46000000e+02\n",
      " 5.04000000e+02 8.40000000e+02 1.88000000e+02 2.34000000e+02\n",
      " 1.21800000e+03 1.27700000e+03 1.01800000e+03 1.15300000e+03\n",
      " 1.21300000e+03 7.31000000e+02 6.43000000e+02 9.67000000e+02\n",
      " 7.47000000e+02 2.80000000e+02 1.79000000e+02 4.56000000e+02\n",
      " 1.35100000e+03 2.40000000e+01 7.63000000e+02 1.82000000e+02\n",
      " 1.04000000e+02 1.81000000e+03 3.84000000e+02 4.90000000e+02\n",
      " 6.49000000e+02 6.32000000e+02 9.41000000e+02 7.39000000e+02\n",
      " 9.12000000e+02 1.01300000e+03 6.03000000e+02 1.88000000e+03\n",
      " 5.65000000e+02 3.20000000e+02 4.62000000e+02 2.28000000e+02\n",
      " 3.36000000e+02 4.48000000e+02 1.20100000e+03 3.30000000e+01\n",
      " 5.88000000e+02 6.00000000e+02 7.13000000e+02 1.04600000e+03\n",
      " 6.48000000e+02 3.10000000e+02 1.16200000e+03 5.20000000e+02\n",
      " 1.08000000e+02 5.69000000e+02 1.20000000e+03 2.24000000e+02\n",
      " 7.05000000e+02 4.44000000e+02 2.50000000e+02 9.84000000e+02\n",
      " 3.50000000e+01 7.74000000e+02 4.19000000e+02 1.70000000e+02\n",
      " 1.47000000e+03 9.38000000e+02 5.70000000e+02 3.00000000e+02\n",
      " 1.20000000e+02 1.16000000e+02 5.12000000e+02 5.67000000e+02\n",
      " 4.45000000e+02 6.95000000e+02 4.05000000e+02 1.00500000e+03\n",
      " 6.68000000e+02 8.21000000e+02 4.32000000e+02 1.30000000e+03\n",
      " 5.07000000e+02 6.79000000e+02 1.33200000e+03 2.09000000e+02\n",
      " 6.80000000e+02 7.16000000e+02 1.40000000e+03 4.16000000e+02\n",
      " 4.29000000e+02 2.22000000e+02 5.70000000e+01 6.60000000e+02\n",
      " 1.01600000e+03 3.70000000e+02 3.51000000e+02 3.79000000e+02\n",
      " 1.28800000e+03 3.60000000e+02 6.39000000e+02 4.95000000e+02\n",
      " 2.88000000e+02 1.39800000e+03 4.77000000e+02 8.31000000e+02\n",
      " 1.90400000e+03 4.36000000e+02 3.52000000e+02 6.11000000e+02\n",
      " 1.08600000e+03 2.97000000e+02 6.26000000e+02 5.60000000e+02\n",
      " 3.90000000e+02 5.66000000e+02 1.12600000e+03 1.03600000e+03\n",
      " 1.08800000e+03 6.41000000e+02 6.17000000e+02 6.62000000e+02\n",
      " 3.12000000e+02 1.06500000e+03 7.87000000e+02 4.68000000e+02\n",
      " 3.60000000e+01 8.22000000e+02 3.78000000e+02 9.46000000e+02\n",
      " 3.41000000e+02 1.60000000e+01 5.50000000e+02 5.24000000e+02\n",
      " 5.60000000e+01 3.21000000e+02 8.42000000e+02 6.89000000e+02\n",
      " 6.25000000e+02 3.58000000e+02 4.02000000e+02 9.40000000e+01\n",
      " 1.07800000e+03 3.29000000e+02 9.29000000e+02 6.97000000e+02\n",
      " 1.57300000e+03 2.70000000e+02 9.22000000e+02 5.03000000e+02\n",
      " 1.33400000e+03 3.61000000e+02 6.72000000e+02 5.06000000e+02\n",
      " 7.14000000e+02 4.03000000e+02 7.51000000e+02 2.26000000e+02\n",
      " 6.20000000e+02 5.46000000e+02 3.92000000e+02 4.21000000e+02\n",
      " 9.05000000e+02 9.04000000e+02 4.30000000e+02 6.14000000e+02\n",
      " 4.50000000e+02 2.10000000e+02 2.92000000e+02 7.95000000e+02\n",
      " 1.28500000e+03 8.19000000e+02 4.20000000e+02 8.41000000e+02\n",
      " 2.81000000e+02 8.94000000e+02 1.46400000e+03 7.00000000e+02\n",
      " 2.62000000e+02 1.27400000e+03 5.18000000e+02 1.23600000e+03\n",
      " 4.25000000e+02 6.92000000e+02 9.87000000e+02 9.70000000e+02\n",
      " 2.80000000e+01 2.56000000e+02 1.61900000e+03 4.00000000e+01\n",
      " 8.46000000e+02 1.12400000e+03 7.20000000e+02 8.28000000e+02\n",
      " 1.24900000e+03 8.10000000e+02 2.13000000e+02 5.85000000e+02\n",
      " 1.29000000e+02 4.98000000e+02 1.27000000e+03 5.73000000e+02\n",
      " 1.41000000e+03 1.08200000e+03 2.36000000e+02 3.88000000e+02\n",
      " 3.34000000e+02 8.74000000e+02 9.56000000e+02 7.73000000e+02\n",
      " 3.99000000e+02 1.62000000e+02 7.12000000e+02 6.09000000e+02\n",
      " 3.71000000e+02 5.40000000e+02 7.20000000e+01 6.23000000e+02\n",
      " 4.28000000e+02 3.50000000e+02 2.98000000e+02 1.44500000e+03\n",
      " 2.18000000e+02 9.85000000e+02 6.31000000e+02 1.28000000e+03\n",
      " 2.41000000e+02 6.90000000e+02 2.66000000e+02 7.77000000e+02\n",
      " 8.12000000e+02 7.86000000e+02 1.11600000e+03 7.89000000e+02\n",
      " 1.05600000e+03 5.00000000e+01 1.12800000e+03 7.75000000e+02\n",
      " 1.30900000e+03 1.24600000e+03 9.86000000e+02 6.16000000e+02\n",
      " 1.51800000e+03 6.64000000e+02 3.87000000e+02 4.71000000e+02\n",
      " 3.85000000e+02 3.65000000e+02 1.76700000e+03 1.33000000e+02\n",
      " 6.42000000e+02 2.47000000e+02 3.31000000e+02 7.42000000e+02\n",
      " 1.60600000e+03 9.16000000e+02 1.85000000e+02 5.44000000e+02\n",
      " 5.53000000e+02 3.26000000e+02 7.78000000e+02 3.86000000e+02\n",
      " 4.26000000e+02 3.68000000e+02 4.59000000e+02 1.35000000e+03\n",
      " 1.19600000e+03 6.30000000e+02 9.94000000e+02 1.68000000e+02\n",
      " 1.26100000e+03 1.56700000e+03 2.99000000e+02 8.97000000e+02\n",
      " 6.07000000e+02 8.36000000e+02 5.15000000e+02 3.74000000e+02\n",
      " 1.23100000e+03 1.11000000e+02 3.56000000e+02 4.00000000e+02\n",
      " 6.98000000e+02 1.24700000e+03 2.57000000e+02 3.80000000e+02\n",
      " 2.70000000e+01 1.41000000e+02 9.91000000e+02 6.50000000e+02\n",
      " 5.21000000e+02 1.43600000e+03 2.26000000e+03 7.19000000e+02\n",
      " 3.77000000e+02 1.33000000e+03 3.48000000e+02 1.21900000e+03\n",
      " 7.83000000e+02 9.69000000e+02 6.73000000e+02 1.35800000e+03\n",
      " 1.26000000e+03 1.44000000e+02 5.84000000e+02 5.54000000e+02\n",
      " 1.00200000e+03 6.19000000e+02 1.80000000e+02 5.59000000e+02\n",
      " 3.08000000e+02 8.66000000e+02 8.95000000e+02 6.37000000e+02\n",
      " 6.04000000e+02 1.30200000e+03 1.07100000e+03 2.90000000e+02\n",
      " 7.28000000e+02 2.00000000e+00 1.44100000e+03 9.43000000e+02\n",
      " 2.31000000e+02 4.14000000e+02 3.49000000e+02 4.42000000e+02\n",
      " 3.28000000e+02 5.94000000e+02 8.16000000e+02 1.46000000e+03\n",
      " 1.32400000e+03 1.33800000e+03 6.85000000e+02 1.42200000e+03\n",
      " 1.28300000e+03 8.10000000e+01 4.54000000e+02 9.03000000e+02\n",
      " 6.05000000e+02 9.90000000e+02 2.06000000e+02 1.50000000e+02\n",
      " 4.57000000e+02 4.80000000e+01 8.71000000e+02 4.10000000e+01\n",
      " 6.74000000e+02 6.24000000e+02 4.80000000e+02 1.15400000e+03\n",
      " 7.38000000e+02 4.93000000e+02 1.12100000e+03 2.82000000e+02\n",
      " 5.00000000e+02 1.31000000e+02 1.69600000e+03 8.06000000e+02\n",
      " 1.36100000e+03 9.20000000e+02 1.72100000e+03 1.87000000e+02\n",
      " 1.13800000e+03 9.88000000e+02 1.93000000e+02 5.51000000e+02\n",
      " 7.67000000e+02 1.18600000e+03 8.92000000e+02 3.11000000e+02\n",
      " 8.27000000e+02 5.43000000e+02 1.00300000e+03 1.05900000e+03\n",
      " 2.39000000e+02 9.45000000e+02 2.00000000e+01 1.45500000e+03\n",
      " 9.65000000e+02 9.80000000e+02 8.63000000e+02 5.33000000e+02\n",
      " 1.08400000e+03 1.17300000e+03 5.23000000e+02 1.14800000e+03\n",
      " 1.91000000e+02 1.23400000e+03 3.75000000e+02 8.08000000e+02\n",
      " 7.24000000e+02 1.52000000e+02 1.18000000e+03 2.52000000e+02\n",
      " 8.32000000e+02 5.75000000e+02 9.19000000e+02 4.39000000e+02\n",
      " 3.81000000e+02 4.38000000e+02 5.49000000e+02 6.12000000e+02\n",
      " 1.16300000e+03 4.37000000e+02 3.94000000e+02 1.41600000e+03\n",
      " 4.22000000e+02 7.62000000e+02 9.75000000e+02 1.09700000e+03\n",
      " 2.51000000e+02 6.86000000e+02 6.56000000e+02 5.68000000e+02\n",
      " 5.39000000e+02 8.62000000e+02 1.97000000e+02 5.16000000e+02\n",
      " 6.63000000e+02 6.08000000e+02 1.63600000e+03 7.84000000e+02\n",
      " 2.49000000e+02 1.04000000e+03 4.83000000e+02 1.96000000e+02\n",
      " 5.72000000e+02 3.38000000e+02 3.30000000e+02 1.56000000e+02\n",
      " 1.39000000e+03 5.13000000e+02 4.60000000e+02 6.59000000e+02\n",
      " 3.64000000e+02 5.64000000e+02 3.06000000e+02 5.05000000e+02\n",
      " 9.32000000e+02 7.50000000e+02 6.40000000e+01 6.33000000e+02\n",
      " 1.17000000e+03 8.99000000e+02 9.02000000e+02 1.23800000e+03\n",
      " 5.28000000e+02 1.02400000e+03 1.06400000e+03 2.85000000e+02\n",
      " 2.18800000e+03 4.65000000e+02 3.22000000e+02 8.60000000e+02\n",
      " 5.99000000e+02 3.54000000e+02 6.30000000e+01 2.23000000e+02\n",
      " 3.01000000e+02 4.43000000e+02 4.89000000e+02 2.84000000e+02\n",
      " 2.94000000e+02 8.14000000e+02 1.65000000e+02 5.52000000e+02\n",
      " 8.33000000e+02 4.64000000e+02 9.36000000e+02 7.72000000e+02\n",
      " 1.44000000e+03 7.48000000e+02 9.82000000e+02 3.98000000e+02\n",
      " 5.62000000e+02 4.84000000e+02 4.17000000e+02 6.99000000e+02\n",
      " 6.96000000e+02 8.96000000e+02 5.56000000e+02 1.10600000e+03\n",
      " 6.51000000e+02 8.67000000e+02 8.54000000e+02 1.64600000e+03\n",
      " 1.07400000e+03 5.36000000e+02 1.17200000e+03 9.15000000e+02\n",
      " 5.95000000e+02 1.23700000e+03 2.73000000e+02 6.84000000e+02\n",
      " 3.24000000e+02 1.16500000e+03 1.38000000e+02 1.51300000e+03\n",
      " 3.17000000e+02 1.01200000e+03 1.02200000e+03 5.09000000e+02\n",
      " 9.00000000e+02 1.08500000e+03 1.10400000e+03 2.40000000e+02\n",
      " 3.83000000e+02 6.44000000e+02 3.97000000e+02 7.40000000e+02\n",
      " 8.37000000e+02 2.20000000e+02 5.86000000e+02 5.35000000e+02\n",
      " 4.10000000e+02 7.50000000e+01 8.24000000e+02 5.92000000e+02\n",
      " 1.03900000e+03 5.10000000e+02 4.23000000e+02 6.61000000e+02\n",
      " 2.48000000e+02 7.04000000e+02 4.12000000e+02 1.03200000e+03\n",
      " 2.19000000e+02 7.08000000e+02 4.15000000e+02 1.00400000e+03\n",
      " 3.53000000e+02 7.02000000e+02 3.69000000e+02 6.22000000e+02\n",
      " 2.12000000e+02 6.45000000e+02 8.52000000e+02 1.15000000e+03\n",
      " 1.25800000e+03 2.75000000e+02 1.76000000e+02 2.96000000e+02\n",
      " 5.38000000e+02 1.15700000e+03 4.92000000e+02 1.19800000e+03\n",
      " 1.38700000e+03 5.22000000e+02 6.58000000e+02 1.21600000e+03\n",
      " 1.48000000e+03 2.09600000e+03 1.15900000e+03 4.40000000e+02\n",
      " 1.45600000e+03 8.83000000e+02 5.47000000e+02 7.88000000e+02\n",
      " 4.85000000e+02 3.40000000e+02 1.22000000e+03 4.27000000e+02\n",
      " 3.44000000e+02 7.56000000e+02 1.54000000e+03 6.66000000e+02\n",
      " 8.03000000e+02 1.00000000e+03 8.85000000e+02 1.38600000e+03\n",
      " 3.19000000e+02 5.34000000e+02 1.25000000e+02 1.31400000e+03\n",
      " 6.02000000e+02 1.92000000e+02 5.93000000e+02 8.04000000e+02\n",
      " 1.05300000e+03 5.32000000e+02 1.15800000e+03 1.01400000e+03\n",
      " 1.94000000e+02 1.67000000e+02 7.76000000e+02 5.64400000e+03\n",
      " 6.94000000e+02 1.57200000e+03 7.46000000e+02 1.40600000e+03\n",
      " 9.25000000e+02 4.82000000e+02 1.89000000e+02 7.65000000e+02\n",
      " 8.00000000e+01 1.44300000e+03 2.59000000e+02 7.35000000e+02\n",
      " 7.34000000e+02 1.44700000e+03 5.48000000e+02 3.15000000e+02\n",
      " 1.28200000e+03 4.08000000e+02 3.09000000e+02 2.03000000e+02\n",
      " 8.65000000e+02 2.04000000e+02 7.90000000e+02 1.32000000e+03\n",
      " 7.69000000e+02 1.07000000e+03 2.64000000e+02 7.59000000e+02\n",
      " 1.37300000e+03 9.76000000e+02 7.81000000e+02 2.50000000e+01\n",
      " 1.11000000e+03 4.04000000e+02 5.80000000e+02 6.78000000e+02\n",
      " 9.58000000e+02 1.33600000e+03 1.07900000e+03 4.90000000e+01\n",
      " 8.30000000e+02 9.23000000e+02 7.91000000e+02 2.63000000e+02\n",
      " 9.35000000e+02 1.05100000e+03 5.14000000e+02 1.10000000e+02\n",
      " 1.41400000e+03 1.26000000e+02 1.12900000e+03 1.29800000e+03\n",
      " 3.76000000e+02 4.66000000e+02 2.44000000e+02 1.13700000e+03\n",
      " 6.87000000e+02 1.01000000e+03 1.50000000e+03 6.70000000e+02\n",
      " 9.44000000e+02 1.18800000e+03 8.56000000e+02 3.39000000e+02\n",
      " 4.81000000e+02 7.17000000e+02 5.79000000e+02 2.74000000e+02\n",
      " 7.80000000e+02 2.83000000e+02 4.74000000e+02 4.52000000e+02\n",
      " 2.76000000e+02 9.60000000e+02 7.66000000e+02 1.02600000e+03\n",
      " 7.30000000e+01 7.36000000e+02 1.31900000e+03 2.67000000e+02\n",
      " 1.09200000e+03 9.64000000e+02 9.54000000e+02 1.34600000e+03\n",
      " 1.43300000e+03 8.70000000e+02 1.98000000e+02 1.68200000e+03\n",
      " 2.38000000e+02 3.43000000e+02 7.60000000e+01 6.15000000e+02\n",
      " 7.80000000e+01 4.20000000e+01 4.69000000e+02 2.07000000e+02\n",
      " 4.58000000e+02 4.76000000e+02 1.34100000e+03 8.44000000e+02\n",
      " 8.47000000e+02 8.50000000e+02 1.96500000e+03 7.41000000e+02\n",
      " 3.63000000e+02 2.25000000e+02 1.33300000e+03 8.88000000e+02\n",
      " 6.36000000e+02 7.26000000e+02 2.54000000e+02 4.35000000e+02\n",
      " 3.89000000e+02 2.79000000e+02 1.36000000e+03 1.23200000e+03\n",
      " 2.28800000e+03 1.53100000e+03 1.23000000e+03 1.01500000e+03\n",
      " 1.03700000e+03 1.14200000e+03 1.26200000e+03 1.97200000e+03\n",
      " 8.81000000e+02 8.76000000e+02 2.14600000e+03 1.55700000e+03\n",
      " 8.00000000e+02 6.52000000e+02 4.94000000e+02 6.83000000e+02\n",
      " 9.13000000e+02 1.29400000e+03 2.15800000e+03 6.82000000e+02\n",
      " 1.43000000e+03 7.71000000e+02 5.40000000e+01 5.20000000e+01\n",
      " 6.80000000e+01 8.64000000e+02 1.40000000e+02 1.73300000e+03\n",
      " 6.01000000e+02 9.62000000e+02 1.25200000e+03 1.21000000e+02\n",
      " 9.55000000e+02 1.00000000e+02 1.31200000e+03 1.72000000e+02\n",
      " 1.55000000e+02 9.31000000e+02 8.72000000e+02 7.45000000e+02\n",
      " 6.21000000e+02 4.33000000e+02 8.26000000e+02 1.34000000e+02\n",
      " 1.69000000e+02 7.49000000e+02 1.15200000e+03 5.27000000e+02\n",
      " 3.42000000e+02 1.73000000e+02 7.00000000e+01 1.09400000e+03\n",
      " 8.20000000e+02 1.02100000e+03 1.35900000e+03 7.55000000e+02\n",
      " 9.50000000e+02 6.06000000e+02 1.25900000e+03 7.10000000e+02\n",
      " 1.11100000e+03 1.47800000e+03 3.32000000e+02 7.93000000e+02\n",
      " 2.46000000e+02 1.54000000e+02 6.50000000e+01 1.47600000e+03\n",
      " 5.50000000e+01 1.75800000e+03 1.11500000e+03 1.64000000e+03\n",
      " 1.14000000e+02 7.18000000e+02 4.96000000e+02 1.33700000e+03\n",
      " 1.03400000e+03 9.83000000e+02 1.20600000e+03 8.90000000e+02\n",
      " 1.02300000e+03 1.19000000e+02 2.86000000e+02 1.72800000e+03\n",
      " 1.37500000e+03 1.42000000e+03 2.25700000e+03 1.14900000e+03\n",
      " 1.07500000e+03 3.72000000e+02 1.20400000e+03 1.07300000e+03\n",
      " 1.08700000e+03 1.66000000e+03 1.09600000e+03 7.29000000e+02\n",
      " 3.62000000e+02 5.37000000e+02 4.72000000e+02 5.30000000e+01\n",
      " 7.64000000e+02 1.90000000e+02 1.02700000e+03 1.14100000e+03\n",
      " 6.81000000e+02 8.13000000e+02 1.28000000e+02 1.04400000e+03\n",
      " 2.60000000e+02 5.83000000e+02 3.20000000e+01 5.31000000e+02\n",
      " 1.48000000e+02 7.44000000e+02 9.60000000e+01 5.90000000e+02\n",
      " 2.00000000e+02 4.06000000e+02 1.75000000e+02 2.01000000e+02\n",
      " 4.41423235e+02 7.58000000e+02 2.21000000e+02 6.34000000e+02\n",
      " 1.03500000e+03 7.79000000e+02 1.27100000e+03 3.55000000e+02\n",
      " 2.08500000e+03 7.70000000e+02 7.22000000e+02 1.30800000e+03\n",
      " 6.88000000e+02 8.80000000e+01 1.19400000e+03 1.53800000e+03\n",
      " 1.59300000e+03 1.03300000e+03 3.66000000e+02 1.47400000e+03\n",
      " 1.38300000e+03 8.93000000e+02 1.02900000e+03 1.22300000e+03\n",
      " 1.01100000e+03 1.57100000e+03 3.18000000e+02 5.01000000e+02\n",
      " 7.85000000e+02 6.38000000e+02 6.47000000e+02 8.38000000e+02\n",
      " 1.86000000e+02 9.26000000e+02 1.10100000e+03 1.04700000e+03\n",
      " 7.97000000e+02 1.55800000e+03 1.32800000e+03 3.14000000e+02\n",
      " 9.30000000e+02 7.25000000e+02 1.15100000e+03 1.30400000e+03\n",
      " 1.81200000e+03 1.68400000e+03 6.69000000e+02 1.17800000e+03\n",
      " 1.03000000e+03 8.48000000e+02 9.18000000e+02 5.74000000e+02\n",
      " 1.18100000e+03 1.04800000e+03 3.35000000e+02 1.22500000e+03\n",
      " 7.27000000e+02 9.68000000e+02 6.00000000e+01 9.37000000e+02\n",
      " 9.01000000e+02 1.73200000e+03 1.63200000e+03 9.73000000e+02\n",
      " 9.10000000e+02 3.46000000e+02 7.92000000e+02 6.54000000e+02\n",
      " 1.30000000e+02 8.73000000e+02 9.08000000e+02 4.41000000e+02\n",
      " 8.50000000e+01 2.42000000e+02 9.52000000e+02 1.09800000e+03\n",
      " 7.82000000e+02 1.22000000e+02 3.16000000e+02 2.58000000e+02\n",
      " 5.87000000e+02 4.91000000e+02 4.53000000e+02 5.57000000e+02\n",
      " 1.08000000e+03 4.97000000e+02 5.10000000e+01 5.02000000e+02\n",
      " 6.71000000e+02 1.41200000e+03 7.09000000e+02 1.32000000e+02\n",
      " 4.01000000e+03 4.67000000e+02 7.70000000e+01 1.13000000e+02\n",
      " 5.77000000e+02 4.34000000e+02 1.00100000e+03 1.39200000e+03\n",
      " 1.23900000e+03 9.24000000e+02 9.49000000e+02 2.15000000e+02\n",
      " 1.32900000e+03 1.11200000e+03 7.96000000e+02 8.11000000e+02\n",
      " 1.09000000e+03 5.96000000e+02 1.12700000e+03 2.05000000e+02\n",
      " 1.19100000e+03 9.51000000e+02 3.82000000e+02 3.73000000e+02\n",
      " 1.50500000e+03 1.29000000e+03 8.80000000e+02 1.03800000e+03\n",
      " 1.18200000e+03 1.56200000e+03 1.83600000e+03 2.78000000e+02\n",
      " 1.81000000e+02 1.11800000e+03 7.60000000e+02 7.99000000e+02\n",
      " 9.96000000e+02 9.39000000e+02 9.14000000e+02 2.71000000e+02\n",
      " 4.88000000e+02 7.01000000e+02 4.55000000e+02 8.09000000e+02\n",
      " 9.53000000e+02 2.08000000e+02 1.43000000e+02 5.76000000e+02\n",
      " 3.47000000e+02 7.94000000e+02 2.30000000e+02 2.61000000e+02\n",
      " 3.93000000e+02 1.57600000e+03 1.12200000e+03 8.53000000e+02\n",
      " 4.75000000e+02 6.91000000e+02 4.24000000e+02 3.05000000e+02\n",
      " 5.26000000e+02 1.56400000e+03 9.09000000e+02 1.13600000e+03\n",
      " 1.24300000e+03 1.49000000e+02 1.22400000e+03 3.37000000e+02]\n",
      "float64\n",
      "\n",
      "BsmtFinType2\n",
      "['Unf' 'BLQ' 'No_basement' 'ALQ' 'Rec' 'LwQ' 'GLQ']\n",
      "object\n",
      "\n",
      "BsmtFinSF2\n",
      "[   0.           32.          668.          486.           93.\n",
      "  491.          506.          712.          362.           41.\n",
      "  169.          869.          150.          670.           28.\n",
      " 1080.          181.          768.          215.          374.\n",
      "  208.          441.          184.          279.          306.\n",
      "  180.          580.          690.          692.          228.\n",
      "  125.         1063.          620.          175.          820.\n",
      " 1474.          264.          479.          147.          232.\n",
      "  380.          544.          294.          258.          121.\n",
      "  391.          531.          344.          539.          713.\n",
      "  210.          311.         1120.          165.          532.\n",
      "   96.          495.          174.         1127.          139.\n",
      "  202.          645.          123.          551.          219.\n",
      "  606.          612.          480.          182.          132.\n",
      "  336.          468.          287.           35.          499.\n",
      "  723.          119.           40.          117.          239.\n",
      "   80.          472.           64.         1057.          127.\n",
      "  630.          128.          377.          764.          345.\n",
      " 1085.          435.          823.          500.          290.\n",
      "  324.          634.          411.          841.         1061.\n",
      "  466.          396.          354.          149.          193.\n",
      "  273.          465.          400.          682.          557.\n",
      "  230.          106.          791.          240.          547.\n",
      "  469.          177.          108.          600.          492.\n",
      "  211.          168.         1031.          438.          375.\n",
      "  144.           81.          906.          608.          276.\n",
      "  661.           68.          173.          972.          105.\n",
      "  420.          546.          334.          352.          872.\n",
      "  110.          627.          163.         1029.           78.\n",
      "  859.          981.           42.           46.          162.\n",
      "  350.          263.         1073.           12.          159.\n",
      "  474.          453.          684.          387.          688.\n",
      "  252.          590.          284.          622.          113.\n",
      " 1526.          360.          774.          364.          596.\n",
      "  884.           92.          216.          136.          201.\n",
      "  512.          247.          483.          750.           60.\n",
      "  102.           95.           63.          262.          393.\n",
      "  286.          450.           72.          243.          694.\n",
      "  875.          507.          419.          250.          116.\n",
      "  624.           76.          270.          288.          186.\n",
      "  449.           48.          613.          852.          555.\n",
      "  799.          811.          842.          382.          456.\n",
      "  308.           52.          196.          488.          319.\n",
      "   49.58224812  956.          120.          679.          604.\n",
      "  153.          619.            6.          351.         1037.\n",
      "  829.           38.          206.          167.          543.\n",
      "  259.          404.          138.          955.          691.\n",
      "   66.          154.          442.          448.          227.\n",
      "  398.          722.          761.          529.          522.\n",
      "  873.          891.          755.          321.          915.\n",
      "  417.          432.          831.          278.         1020.\n",
      "  530.          904.          156.         1393.         1039.\n",
      "  497.          402.          748.          281.          912.\n",
      "  373.          982.          826.          850.         1164.\n",
      " 1083.          337.          297.        ]\n",
      "float64\n",
      "\n",
      "BsmtUnfSF\n",
      "[ 150.  284.  434. ...  129.   45. 1503.]\n",
      "float64\n",
      "\n",
      "TotalBsmtSF\n",
      "[ 856. 1262.  920. ...  498.  432. 1381.]\n",
      "float64\n",
      "\n",
      "Heating\n",
      "['GasA' 'GasW' 'Grav' 'Wall' 'OthW' 'Floor']\n",
      "object\n",
      "\n",
      "HeatingQC\n",
      "['Ex' 'Gd' 'TA' 'Fa' 'Po']\n",
      "object\n",
      "\n",
      "CentralAir\n",
      "['Y' 'N']\n",
      "object\n",
      "\n",
      "Electrical\n",
      "['SBrkr' 'FuseF' 'FuseA' 'FuseP' 'Mix' 'Undefined']\n",
      "object\n",
      "\n",
      "1stFlrSF\n",
      "[ 856 1262  920 ... 1778 1650 1960]\n",
      "int64\n",
      "\n",
      "2ndFlrSF\n",
      "[ 854    0  866  756 1053  566  983  752 1142 1218  668 1320  631  716\n",
      "  676  860 1519  530  808  977 1330  833  765  462  213  548  960  670\n",
      " 1116  876  612 1031  881  790  755  592  939  520  639  656 1414  884\n",
      "  729 1523  728  351  688  941 1032  848  836  475  739 1151  448  896\n",
      "  524 1194  956 1070 1096  467  547  551  880  703  901  720  316 1518\n",
      "  704 1178  754  601 1360  929  445  564  882  920  518  817 1257  741\n",
      "  672 1306  504 1304 1100  730  689  591  888 1020  828  700  842 1286\n",
      "  864  829 1092  709  844 1106  596  807  625  649  698  840  780  568\n",
      "  795  648  975  702 1242 1818 1121  371  804  325  809 1200  871 1274\n",
      " 1347 1332 1177 1080  695  167  915  576  605  862  495  403  838  517\n",
      " 1427  784  711  468 1081  886  793  665  858  874  526  590  406 1157\n",
      "  299  936  438 1098  766 1101 1028 1017 1254  378 1160  682  110  600\n",
      "  678  834  384  512  930  868  224 1103  560  811  878  574  910  620\n",
      "  687  546  902 1000  846 1067  914  660 1538 1015 1237  611  707  527\n",
      " 1288  832  806 1182 1040  439  717  511 1129 1370  636  533  745  584\n",
      "  812  684  595  988  800  677  573 1066  778  661 1440  872  788  843\n",
      "  713  567  651  762  482  738  586  679  644  900  887 1872 1281  472\n",
      " 1312  319  978 1093  473  664 1540 1276  441  348 1060  714  744 1203\n",
      "  783 1097  734  767 1589  742  686 1128 1111 1174  787 1072 1088 1063\n",
      "  545  966  623  432  581  540  769 1051  761  779  514  455 1426  785\n",
      "  521  252  813 1120 1037 1169 1001 1215  928 1140 1243  571 1196 1038\n",
      "  561  979  701  332  368  883 1336 1141  634  912  798  985  826  831\n",
      "  750  456  602  855  336  408  980  998 1168 1208  797  850  898 1054\n",
      "  895  954  772 1230  727  454  370  628  304  582 1122 1134  885  640\n",
      "  580 1112  653  220  240 1362  534  539  650  918  933  712 1796  971\n",
      " 1175  743  523 1216 2065  272  685  776  630  984  875  913  464 1039\n",
      " 1259  940  892  725  924  764  925 1479  192  589  992  903  430  748\n",
      "  587  994  950 1323  732 1357  557 1296  390 1185  873 1611  457  796\n",
      "  908  550  989  932  358 1392  349  691 1349  768  208  622  857  556\n",
      " 1044  708  626  904  510 1104  830  981  870  694 1152  563  823  604\n",
      "  715  532  537  505  424  606  185  498  492  608 1074  662  499  180\n",
      "  942  558  614  328 1788 1075  380  615  645  663 1275  816  839 1325\n",
      " 1012 1295  683 1126 1089 1221  967  841 1209  897  786 1629  782 1369\n",
      "  972 1315  726  322  760  629  496  690  646  917  624  320  588  425\n",
      "  747 1114 1619  718  815  926  444  436 1240  516 1420 1158 1162 1139\n",
      " 1285 1061 1250  919  861  794  825  893 1319  959  792 1345  453  412\n",
      "  182  501  375  680  658  552  396  308  973  363  594  554  428  536\n",
      "  486 1721 1099  735  899 1198  343  673  442  890  943  330  420  770\n",
      " 1342 1377  845 1402 1036  570 1238  923  757 1048 1131 1407 1171 1277\n",
      "  995  528  863 1232  976 1008 1309  228  500  544 1778  616  494  642\n",
      "  659  671  144  525  423 1164  356  245 1042  477 1005 1087  638  400\n",
      "  376  916  927  869  753  450 1133  674  125  531  585  775  851  957\n",
      " 1340  955  990 1384 1862 1371 1405 1358  465  466 1335  814  488 1321\n",
      " 1029 1368 1567 1189 1234 1248  821 1007  476  502  867  297  810  434\n",
      "  583  341 1836  541 1246 1124 1045  827 1150  312  218  493  736  818\n",
      "  610  549  697  360 1004]\n",
      "int64\n",
      "\n",
      "LowQualFinSF\n",
      "[   0  360  513  234  528  572  144  392  371  390  420  473  156  515\n",
      "   80   53  232  481  120  514  397  479  205  384  362 1064  431  436\n",
      "  259  312  108  697  512  114  140  450]\n",
      "int64\n",
      "\n",
      "GrLivArea\n",
      "[1710 1262 1786 ... 2315  641 1778]\n",
      "int64\n",
      "\n",
      "BsmtFullBath\n",
      "[1.         0.         2.         3.         0.42989373]\n",
      "float64\n",
      "\n",
      "BsmtHalfBath\n",
      "[0.         1.         2.         0.06136442]\n",
      "float64\n",
      "\n",
      "FullBath\n",
      "[2 1 3 0 4]\n",
      "int64\n",
      "\n",
      "HalfBath\n",
      "[1 0 2]\n",
      "int64\n",
      "\n",
      "BedroomAbvGr\n",
      "[3 4 1 2 0 5 6 8]\n",
      "int64\n",
      "\n",
      "KitchenAbvGr\n",
      "[1 2 3 0]\n",
      "int64\n",
      "\n",
      "KitchenQual\n",
      "['Gd' 'TA' 'Ex' 'Fa' 'Undefined']\n",
      "object\n",
      "\n",
      "TotRmsAbvGrd\n",
      "[ 8  6  7  9  5 11  4 10 12  3  2 14 13 15]\n",
      "int64\n",
      "\n",
      "Functional\n",
      "['Typ' 'Min1' 'Maj1' 'Min2' 'Mod' 'Maj2' 'Sev']\n",
      "object\n",
      "\n",
      "Fireplaces\n",
      "[0 1 2 3 4]\n",
      "int64\n",
      "\n",
      "FireplaceQu\n",
      "['No_basement' 'TA' 'Gd' 'Fa' 'Ex' 'Po']\n",
      "object\n",
      "\n",
      "GarageType\n",
      "['Attchd' 'Detchd' 'BuiltIn' 'CarPort' 'No_garage' 'Basment' '2Types']\n",
      "object\n",
      "\n",
      "GarageYrBlt\n",
      "[2003.         1976.         2001.         1998.         2000.\n",
      " 1993.         2004.         1973.         1931.         1939.\n",
      " 1965.         2005.         1962.         2006.         1960.\n",
      " 1991.         1970.         1967.         1958.         1930.\n",
      " 2002.         1968.         2007.         2008.         1957.\n",
      " 1920.         1966.         1959.         1995.         1954.\n",
      " 1953.         1978.04094203 1983.         1977.         1997.\n",
      " 1985.         1963.         1981.         1964.         1999.\n",
      " 1935.         1990.         1945.         1987.         1989.\n",
      " 1915.         1956.         1948.         1974.         2009.\n",
      " 1950.         1961.         1921.         1900.         1979.\n",
      " 1951.         1969.         1936.         1975.         1971.\n",
      " 1923.         1984.         1926.         1955.         1986.\n",
      " 1988.         1916.         1932.         1972.         1918.\n",
      " 1980.         1924.         1996.         1940.         1949.\n",
      " 1994.         1910.         1978.         1982.         1992.\n",
      " 1925.         1941.         2010.         1927.         1947.\n",
      " 1937.         1942.         1938.         1952.         1928.\n",
      " 1922.         1934.         1906.         1914.         1946.\n",
      " 1908.         1929.         1933.         1917.         1896.\n",
      " 1895.         1943.         1919.        ]\n",
      "float64\n",
      "\n",
      "GarageFinish\n",
      "['RFn' 'Unf' 'Fin' 'No_garage']\n",
      "object\n",
      "\n",
      "GarageCars\n",
      "[2.         3.         1.         0.         4.         5.\n",
      " 1.76662097]\n",
      "float64\n",
      "\n",
      "GarageArea\n",
      "[ 548.          460.          608.          642.          836.\n",
      "  480.          636.          484.          468.          205.\n",
      "  384.          736.          352.          840.          576.\n",
      "  516.          294.          853.          280.          534.\n",
      "  572.          270.          890.          772.          319.\n",
      "  240.          250.          271.          447.          556.\n",
      "  691.          672.          498.          246.            0.\n",
      "  440.          308.          504.          300.          670.\n",
      "  826.          386.          388.          528.          894.\n",
      "  565.          641.          288.          645.          852.\n",
      "  558.          220.          667.          360.          427.\n",
      "  490.          379.          297.          283.          509.\n",
      "  405.          758.          461.          400.          462.\n",
      "  420.          432.          506.          684.          472.\n",
      "  366.          476.          410.          740.          648.\n",
      "  273.          546.          325.          792.          450.\n",
      "  180.          430.          594.          390.          540.\n",
      "  264.          530.          435.          453.          750.\n",
      "  487.          624.          471.          318.          766.\n",
      "  660.          470.          720.          577.          380.\n",
      "  434.          866.          495.          564.          312.\n",
      "  625.          680.          678.          726.          532.\n",
      "  216.          303.          789.          511.          616.\n",
      "  521.          451.         1166.          252.          497.\n",
      "  682.          666.          786.          795.          856.\n",
      "  473.          398.          500.          349.          454.\n",
      "  644.          299.          210.          431.          438.\n",
      "  675.          968.          721.          336.          810.\n",
      "  494.          457.          818.          463.          604.\n",
      "  389.          538.          520.          309.          429.\n",
      "  673.          884.          868.          492.          413.\n",
      "  924.         1053.          439.          671.          338.\n",
      "  573.          732.          505.          575.          626.\n",
      "  898.          529.          685.          281.          539.\n",
      "  418.          588.          282.          375.          683.\n",
      "  843.          552.          870.          888.          746.\n",
      "  708.          513.         1025.          656.          872.\n",
      "  292.          441.          189.          880.          676.\n",
      "  301.          474.          706.          617.          445.\n",
      "  200.          592.          566.          514.          296.\n",
      "  244.          610.          834.          639.          501.\n",
      "  846.          560.          596.          600.          373.\n",
      "  947.          350.          396.          864.          304.\n",
      "  784.          696.          569.          628.          550.\n",
      "  493.          578.          198.          422.          228.\n",
      "  526.          525.          908.          499.          508.\n",
      "  694.          874.          164.          402.          515.\n",
      "  286.          603.          900.          583.          889.\n",
      "  858.          502.          392.          403.          527.\n",
      "  765.          367.          426.          615.          871.\n",
      "  570.          406.          590.          612.          650.\n",
      " 1390.          275.          452.          842.          816.\n",
      "  621.          544.          486.          230.          261.\n",
      "  531.          393.          774.          749.          364.\n",
      "  627.          260.          256.          478.          442.\n",
      "  562.          512.          839.          330.          711.\n",
      " 1134.          416.          779.          702.          567.\n",
      "  832.          326.          551.          606.          739.\n",
      "  408.          475.          704.          983.          768.\n",
      "  632.          541.          320.          800.          831.\n",
      "  554.          878.          752.          614.          481.\n",
      "  496.          423.          841.          895.          412.\n",
      "  865.          630.          605.          602.          618.\n",
      "  444.          397.          455.          409.          820.\n",
      " 1020.          598.          857.          595.          433.\n",
      "  776.         1220.          458.          613.          456.\n",
      "  436.          812.          686.          611.          425.\n",
      "  343.          479.          619.          902.          574.\n",
      "  523.          414.          738.          354.          483.\n",
      "  327.          756.          690.          284.          833.\n",
      "  601.          533.          522.          788.          555.\n",
      "  689.          796.          808.          510.          255.\n",
      "  424.          305.          368.          824.          328.\n",
      "  160.          437.          665.          290.          912.\n",
      "  905.          542.          716.          586.          467.\n",
      "  582.         1248.         1043.          254.          712.\n",
      "  719.          862.          928.          782.          466.\n",
      "  714.         1052.          225.          234.          324.\n",
      "  306.          830.          807.          358.          186.\n",
      "  693.          482.          813.          995.          757.\n",
      " 1356.          459.          701.          322.          315.\n",
      "  668.          404.          543.          954.          850.\n",
      "  477.          276.          518.         1014.          753.\n",
      " 1418.          213.          844.          860.          748.\n",
      "  248.          287.          825.          647.          342.\n",
      "  770.          663.          377.          804.          936.\n",
      "  722.          208.          662.          754.          622.\n",
      "  620.          370.         1069.          372.          923.\n",
      "  192.          730.          751.          958.          962.\n",
      "  762.          713.          535.          517.          263.\n",
      "  780.          363.          365.          231.          591.\n",
      "  209.         1017.          580.          399.          741.\n",
      "  253.          581.          345.          896.          932.\n",
      "  640.          927.          700.          886.          949.\n",
      "  649.          394.          658.          815.          623.\n",
      "  972.          984.          692.          845.          559.\n",
      "  465.          524.          561.          549.          907.\n",
      "  162.          357.          207.         1184.          316.\n",
      "  226.          340.          266.         1138.          904.\n",
      " 1231.          195.          313.          215.          307.\n",
      "  295.          351.          885.          920.          698.\n",
      "  557.          489.         1314.          787.         1150.\n",
      " 1003.          944.          428.          687.          938.\n",
      "  783.          851.          545.          469.          464.\n",
      "  267.         1488.          401.          311.          828.\n",
      "  869.          355.          249.         1348.          811.\n",
      "  725.          715.          814.          369.          599.\n",
      "  344.          356.          185.          892.          257.\n",
      "  729.         1110.          724.          585.          488.\n",
      " 1040.         1174.          728.          916.          876.\n",
      "  631.          925.          806.          933.         1092.\n",
      "  859.          744.         1105.          310.          293.\n",
      "  371.         1200.          184.          374.          331.\n",
      "  224.          217.          323.          638.          332.\n",
      "  674.          747.          242.          597.          579.\n",
      " 1154.          472.87457162  100.          571.         1041.\n",
      "  963.          443.          773.          485.         1085.\n",
      "  899.          959.          803.          760.          584.\n",
      "  449.          688.          568.          353.          791.\n",
      " 1008.          378.          258.          848.          317.\n",
      "  646.          265.          609.          272.        ]\n",
      "float64\n",
      "\n",
      "GarageQual\n",
      "['TA' 'Fa' 'Gd' 'No_garage' 'Ex' 'Po']\n",
      "object\n",
      "\n",
      "GarageCond\n",
      "['TA' 'Fa' 'No_garage' 'Gd' 'Po' 'Ex']\n",
      "object\n",
      "\n",
      "PavedDrive\n",
      "['Y' 'N' 'P']\n",
      "object\n",
      "\n",
      "WoodDeckSF\n",
      "[   0  298  192   40  255  235   90  147  140  160   48  240  171  100\n",
      "  406  222  288   49  203  113  392  145  196  168  112  106  857  115\n",
      "  120   12  576  301  144  300   74  127  232  158  352  182  180  166\n",
      "  224   80  367   53  188  105   24   98  276  200  409  239  400  476\n",
      "  178  574  237  210  441  116  280  104   87  132  238  149  355   60\n",
      "  139  108  351  209  216  248  143  365  370   58  197  263  123  138\n",
      "  333  250  292   95  262   81  289  124  172  110  208  468  256  302\n",
      "  190  340  233  184  201  142  122  155  670  135  495  536  306   64\n",
      "  364  353   66  159  146  296  125   44  215  264   88   89   96  414\n",
      "  519  206  141  260  324  156  220   38  261  126   85  466  270   78\n",
      "  169  320  268   72  349   42   35  326  382  161  179  103  253  148\n",
      "  335  176  390  328  312  185  269  195   57  236  517  304  198  426\n",
      "   28  316  322  307  257  219  416  344  380   68  114  327  165  187\n",
      "  181   92  228  245  503  315  241  303  133  403   36   52  265  207\n",
      "  150  290  486  278   70  418  234   26  342   97  272  121  243  511\n",
      "  154  164  173  384  202   56  321   86  194  421  305  117  550  509\n",
      "  153  394  371   63  252  136  186  170  474  214  199  728  436   55\n",
      "  431  448  361  362  162  229  439  379  356   84  635  325   33  212\n",
      "  314  242  294   30  128   45  177  227  218  309  404  500  668  402\n",
      "  283  183  175  586  295   32  366  736  393  360  157  483  275   23\n",
      "  277  657   51   54  221  226  496  336  450   71  331  375  174   22\n",
      "  287  129  225  319   99  230  231  297  205  462  502  501  266  244\n",
      "  189  131   73  329  279  467  119  308  152   16  411  358  385   20\n",
      "   25  490   76  204  311  102   50  424  339  211  259  134  213  318\n",
      "  428  282  167  407  130  460  286  193  455  284  285   14  521  646\n",
      "  386  405  546  118  291  274 1424  690  330  246  444  354  247  870\n",
      "  432    4  641   94  191   75  631  345  520   27   77  684  453  413\n",
      "  530]\n",
      "int64\n",
      "\n",
      "OpenPorchSF\n",
      "[ 61   0  42  35  84  30  57 204   4  21  33 213 112 102 154 159 110  90\n",
      "  56  32  50 258  54  65  38  47  64  52 138 104  82  43 146  75  72  70\n",
      "  49  11  36 151  29  94 101 199  99 234 162  63  68  46  45 122 184 120\n",
      "  20  24 130 205 108  80  66  48  25  96 111 106  40 114   8 136 132  62\n",
      " 228  60 238 260  27  74  16 198  26  83  34  55  22  98 172 119 208 105\n",
      " 140 168  28  39 148  12  51 150 117 250  10  81  44 144 175 195 128  76\n",
      "  17  59 214 121  53 231 134 192 123  78 187  85 133 176 113 137 125 523\n",
      " 100 285  88 406 155  73 182 502 274 158 142 243 235 312 124 267 265  87\n",
      " 288  23 152 341 116 160 174 247 291  18 170 156 166 129 418 240  77 364\n",
      " 188 207  67  69 131 191  41 118 252 189 282 135  95 224 169 319  58  93\n",
      " 244 185 200  92 180 263 304 229 103 211 287 292 241 547  91  86 262 210\n",
      " 141  15 126 236 278 197 273 190 183 165 226 178 177 254 215 222 193 201\n",
      " 173 153 251 230 299 365 139 216  89 372 217 276 164 368 203 127 256 194\n",
      " 324 171 570 484 742 444 266  97  37 246  31 382   6 115 253 245 107 225]\n",
      "int64\n",
      "\n",
      "EnclosedPorch\n",
      "[   0  272  228  205  176   87  172  102   37  144   64  114  202  128\n",
      "  156   44   77  192  140  180  183   39  184   40  552   30  126   96\n",
      "   60  150  120  112  252   52  224  234  244  268  137   24  108  294\n",
      "  177  218  242   91  160  130  169  105   34  248  236   32   80  115\n",
      "  291  116  158  210   36  200   84  148  136  240   54  100  189  293\n",
      "  164  216  239   67   90   56  129   98  143   70  386  154  185  134\n",
      "  196  264  275  230  254   68  194  318   48   94  138  226  174   19\n",
      "  170  220  214  280  190  330  208  145  259   81   42  123  162  286\n",
      "  168   20  301  198  221  212   50   99  186  113  135  334  246   18\n",
      "   41   35  364   45   86  265  222  209  260  203  432   25  238   51\n",
      "  213  288  211   55   57   78   72  368  165   92   16   66  109  139\n",
      "  219  101  117  204  122  231  121  207  249  290  175   26   88 1012\n",
      "   43  584  133  324  161   75  167   28  104  296  256  225  429  132\n",
      "   23]\n",
      "int64\n",
      "\n",
      "3SsnPorch\n",
      "[  0 320 407 130 180 168 140 508 238 245 196 144 182 162  23 216  96 153\n",
      " 290 304 224 255 225 360 150 174 120 219 176  86 323]\n",
      "int64\n",
      "\n",
      "ScreenPorch\n",
      "[  0 176 198 291 252  99 184 168 130 142 192 410 224 266 170 154 153 144\n",
      " 128 259 160 271 234 374 185 182  90 396 140 276 180 161 145 200 122  95\n",
      " 120  60 126 189 260 147 385 287 156 100 216 210 197 204 225 152 175 312\n",
      " 222 265 322 190 233  63  53 143 273 288 263  80 163 116 480 178 440 155\n",
      " 220 119 165  40 256 240 148 166 108 490 196 121  92 342 255 111 112 231\n",
      " 110 117 195 115 141 208  94 164  64 576 227 221 171 135 174 217 201 109\n",
      " 150  84 228 138  88 280 123 264 270 162 348 113 104]\n",
      "int64\n",
      "\n",
      "PoolArea\n",
      "[  0 512 648 576 555 480 519 738 144 368 444 228 561 800]\n",
      "int64\n",
      "\n",
      "PoolQC\n",
      "['No_pool' 'Ex' 'Fa' 'Gd']\n",
      "object\n",
      "\n",
      "Fence\n",
      "['No_fence' 'MnPrv' 'GdWo' 'GdPrv' 'MnWw']\n",
      "object\n",
      "\n",
      "MiscFeature\n",
      "['No_MiscFeature' 'Shed' 'Gar2' 'Othr' 'TenC']\n",
      "object\n",
      "\n",
      "MiscVal\n",
      "[    0   700   350   500   400   480   450 15500  1200   800  2000   600\n",
      "  3500  1300    54   620   560  1400  8300  1150  2500 12500  1500   300\n",
      "    80   490   650   900   750  6500  1000  4500  3000 17000  1512   455\n",
      "   460   420]\n",
      "int64\n",
      "\n",
      "MoSold\n",
      "[ 2  5  9 12 10  8 11  4  1  7  3  6]\n",
      "int64\n",
      "\n",
      "YrSold\n",
      "[2008 2007 2006 2009 2010]\n",
      "int64\n",
      "\n",
      "SaleType\n",
      "['WD' 'New' 'COD' 'ConLD' 'ConLI' 'CWD' 'ConLw' 'Con' 'Oth']\n",
      "object\n",
      "\n",
      "SaleCondition\n",
      "['Normal' 'Abnorml' 'Partial' 'AdjLand' 'Alloca' 'Family']\n",
      "object\n",
      "\n",
      "SalePrice\n"
     ]
    },
    {
     "name": "stdout",
     "output_type": "stream",
     "text": [
      "[208500 181500 223500 140000 250000 143000 307000 200000 129900 118000\n",
      " 129500 345000 144000 279500 157000 132000 149000  90000 159000 139000\n",
      " 325300 139400 230000 154000 256300 134800 306000 207500  68500  40000\n",
      " 149350 179900 165500 277500 309000 145000 153000 109000  82000 160000\n",
      " 170000 130250 141000 319900 239686 249700 113000 127000 177000 114500\n",
      " 110000 385000 130000 180500 172500 196500 438780 124900 158000 101000\n",
      " 202500 219500 317000 180000 226000  80000 225000 244000 185000 144900\n",
      " 107400  91000 135750 136500 193500 153500 245000 126500 168500 260000\n",
      " 174000 164500  85000 123600 109900  98600 163500 133900 204750 214000\n",
      "  94750  83000 128950 205000 178000 118964 198900 169500 100000 115000\n",
      " 190000 136900 383970 217000 259500 176000 155000 320000 163990 136000\n",
      " 153900 181000  84500 128000  87000 150000 150750 220000 171000 231500\n",
      " 166000 204000 125000 105000 222500 122000 372402 235000  79000 109500\n",
      " 269500 254900 162500 412500 103200 152000 127500 325624 183500 228000\n",
      " 128500 215000 239000 163000 184000 243000 211000 501837 200100 120000\n",
      " 475000 173000 135000 153337 286000 315000 192000 148500 311872 104000\n",
      " 274900 171500 112000 143900 277000  98000 186000 252678 156000 161750\n",
      " 134450 210000 107000 311500 167240 204900  97000 386250 290000 106000\n",
      " 192500 148000 403000  94500 128200 216500  89500 185500 194500 318000\n",
      " 262500 110500 241500 137000  76500 276000 151000  73000 175500 179500\n",
      " 120500 266000 124500 201000 415298 228500 244600 179200 164700  88000\n",
      " 153575 233230 135900 131000 167000 142500 175000 158500 267000 149900\n",
      " 295000 305900  82500 360000 165600 119900 375000 188500 270000 187500\n",
      " 342643 354000 301000 126175 242000 324000 145250 214500  78000 119000\n",
      " 284000 207000 228950 377426 202900  87500 140200 151500 157500 437154\n",
      " 318061  95000 105900 177500 134000 280000 198500 147000 165000 162000\n",
      " 172400 134432 123000  61000 340000 394432 179000 187750 213500  76000\n",
      " 240000  81000 191000 426000 106500 129000  67000 241000 245500 164990\n",
      " 108000 258000 168000 339750  60000 222000 181134 149500 126000 142000\n",
      " 206300 275000 109008 195400  85400  79900 122500 212000 116000  90350\n",
      " 555000 162900 199900 119500 188000 256000 161000 263435  62383 188700\n",
      " 124000 178740 146500 187000 440000 251000 132500 208900 380000 297000\n",
      "  89471 326000 374000 164000  86000 133000 172785  91300  34900 430000\n",
      " 226700 289000 208300 164900 202665  96500 402861 265000 234000 106250\n",
      " 184750 315750 446261 200624 107500  39300 111250 272000 248000 213250\n",
      " 179665 229000 263000 112500 255500 121500 268000 325000 316600 135960\n",
      " 142600 224500 118500 146000 131500 181900 253293 369900  79500 185900\n",
      " 451950 138000 319000 114504 194201 217500 221000 359100 313000 261500\n",
      "  75500 137500 183200 105500 314813 305000 165150 139900 209500  93000\n",
      " 264561 274000 370878 143250  98300 205950 350000 145500  97500 197900\n",
      " 402000 423000 230500 173500 103600 257500 372500 159434 285000 227875\n",
      " 148800 392000 194700 755000 335000 108480 141500  89000 123500 138500\n",
      " 196000 312500 361919 213000  55000 302000 254000 179540  52000 102776\n",
      " 189000 130500 159500 341000 103000 236500 131400  93500 239900 299800\n",
      " 236000 265979 260400 275500 158900 179400 215200 337000 264132 216837\n",
      " 538000 134900 102000 395000 221500 175900 187100 161500 233000 107900\n",
      " 160200 146800 269790 143500 485000 582933 227680 135500 159950 144500\n",
      "  55993 157900 224900 271000 224000 183000 139500 232600 147400 237000\n",
      " 139950 174900 133500 189950 250580 248900 169000 200500  66500 303477\n",
      " 132250 328900 122900 154500 118858 142953 611657 125500 255000 154300\n",
      " 173733  75000  35311 238000 176500 145900 169990 193000 117500 184900\n",
      " 253000 239799 244400 150900 197500 172000 116500 214900 178900  37900\n",
      "  99500 182000 167500  85500 178400 336000 159895 255900 117000 395192\n",
      " 195000 197000 348000 173900 337500 121600 206000 232000 136905 119200\n",
      " 227000 203000 213490 194000 287000 293077 310000 119750  84000 315500\n",
      " 262280 278000 139600 556581  84900 176485 200141 185850 328000 167900\n",
      " 151400  91500 138800 155900  83500 252000  92900 176432 274725 134500\n",
      " 184100 133700 118400 212900 163900 259000 239500  94000 424870 174500\n",
      " 116900 201800 218000 235128 108959 233170 245350 625000 171900 154900\n",
      " 392500 745000 186700 104900 262000 219210 116050 271900 229456  80500\n",
      " 137900 367294 101800 138887 265900 248328 465000 186500 169900 171750\n",
      " 294000 165400 301500  99900 128900 183900 378500 381000 185750  68400\n",
      " 150500 281000 333168 206900 295493 111000 156500  72500  52500 155835\n",
      " 108500 283463 410000 156932 144152 216000 274300 466500  58500 237500\n",
      " 377500 246578 281213 137450 193879 282922 257000 223000 274970 182900\n",
      " 192140 143750  64500 394617 149700 149300 121000 179600  92000 287090\n",
      " 266500 142125 147500      0]\n",
      "int64\n",
      "\n"
     ]
    }
   ],
   "source": [
    "for i in df_united.columns:\n",
    "    print(i)\n",
    "    print(df_united[i].unique())\n",
    "    print(df_united[i].dtype)\n",
    "    print()"
   ]
  },
  {
   "cell_type": "code",
   "execution_count": 19,
   "metadata": {},
   "outputs": [],
   "source": [
    "cat_features = [\n",
    "    'MSSubClass',\n",
    "    'MSZoning',\n",
    "    'Street',\n",
    "    'Alley',\n",
    "    'LotShape',\n",
    "    'LandContour',\n",
    "    'Utilities',\n",
    "    'LotConfig',\n",
    "    'LandSlope', \n",
    "    'Neighborhood',\n",
    "    'Condition1',\n",
    "    'Condition2',\n",
    "    'BldgType',\n",
    "    'HouseStyle',\n",
    "    'OverallQual',\n",
    "    'OverallCond',\n",
    "    'RoofStyle',\n",
    "    'RoofMatl',\n",
    "    'Exterior1st',\n",
    "    'Exterior2nd',\n",
    "    'MasVnrType',\n",
    "    'ExterQual',\n",
    "    'ExterCond',\n",
    "    'Foundation',\n",
    "    'BsmtQual',\n",
    "    'BsmtCond',\n",
    "    'BsmtExposure',\n",
    "    'BsmtFinType1',\n",
    "    'BsmtFinType2',\n",
    "    'Heating',\n",
    "    'HeatingQC',\n",
    "    'CentralAir',\n",
    "    'Electrical',\n",
    "    'KitchenQual',\n",
    "    'Functional',\n",
    "    'FireplaceQu',\n",
    "    'GarageType',\n",
    "    'GarageFinish',\n",
    "    'GarageQual',\n",
    "    'GarageCond',\n",
    "    'PavedDrive',\n",
    "    'PoolQC',\n",
    "    'Fence',\n",
    "    'MiscFeature',\n",
    "    'MoSold', \n",
    "    'YrSold',\n",
    "    'SaleType',\n",
    "    'SaleCondition'\n",
    "]"
   ]
  },
  {
   "cell_type": "code",
   "execution_count": 20,
   "metadata": {},
   "outputs": [
    {
     "name": "stdout",
     "output_type": "stream",
     "text": [
      "MSSubClass | STD/MEAN = 0.26\n"
     ]
    },
    {
     "data": {
      "image/png": "[encoded data removed]",
      "text/plain": [
       "<Figure size 432x288 with 1 Axes>"
      ]
     },
     "metadata": {
      "needs_background": "light"
     },
     "output_type": "display_data"
    },
    {
     "name": "stdout",
     "output_type": "stream",
     "text": [
      "MSZoning | STD/MEAN = 0.38\n"
     ]
    },
    {
     "data": {
      "image/png": "[encoded data removed]",
      "text/plain": [
       "<Figure size 432x288 with 1 Axes>"
      ]
     },
     "metadata": {
      "needs_background": "light"
     },
     "output_type": "display_data"
    },
    {
     "name": "stdout",
     "output_type": "stream",
     "text": [
      "Street | STD/MEAN = 0.23\n"
     ]
    },
    {
     "data": {
      "image/png": "[encoded data removed]",
      "text/plain": [
       "<Figure size 432x288 with 1 Axes>"
      ]
     },
     "metadata": {
      "needs_background": "light"
     },
     "output_type": "display_data"
    },
    {
     "name": "stdout",
     "output_type": "stream",
     "text": [
      "Alley | STD/MEAN = 0.2\n"
     ]
    },
    {
     "data": {
      "image/png": "[encoded data removed]",
      "text/plain": [
       "<Figure size 432x288 with 1 Axes>"
      ]
     },
     "metadata": {
      "needs_background": "light"
     },
     "output_type": "display_data"
    },
    {
     "name": "stdout",
     "output_type": "stream",
     "text": [
      "LotShape | STD/MEAN = 0.15\n"
     ]
    },
    {
     "data": {
      "image/png": "[encoded data removed]",
      "text/plain": [
       "<Figure size 432x288 with 1 Axes>"
      ]
     },
     "metadata": {
      "needs_background": "light"
     },
     "output_type": "display_data"
    },
    {
     "name": "stdout",
     "output_type": "stream",
     "text": [
      "LandContour | STD/MEAN = 0.2\n"
     ]
    },
    {
     "data": {
      "image/png": "[encoded data removed]",
      "text/plain": [
       "<Figure size 432x288 with 1 Axes>"
      ]
     },
     "metadata": {
      "needs_background": "light"
     },
     "output_type": "display_data"
    },
    {
     "name": "stdout",
     "output_type": "stream",
     "text": [
      "Utilities | STD/MEAN = 0.19\n"
     ]
    },
    {
     "data": {
      "image/png": "[encoded data removed]",
      "text/plain": [
       "<Figure size 432x288 with 1 Axes>"
      ]
     },
     "metadata": {
      "needs_background": "light"
     },
     "output_type": "display_data"
    },
    {
     "name": "stdout",
     "output_type": "stream",
     "text": [
      "LotConfig | STD/MEAN = 0.11\n"
     ]
    },
    {
     "data": {
      "image/png": "[encoded data removed]",
      "text/plain": [
       "<Figure size 432x288 with 1 Axes>"
      ]
     },
     "metadata": {
      "needs_background": "light"
     },
     "output_type": "display_data"
    },
    {
     "name": "stdout",
     "output_type": "stream",
     "text": [
      "LandSlope | STD/MEAN = 0.06\n"
     ]
    },
    {
     "data": {
      "image/png": "[encoded data removed]",
      "text/plain": [
       "<Figure size 432x288 with 1 Axes>"
      ]
     },
     "metadata": {
      "needs_background": "light"
     },
     "output_type": "display_data"
    },
    {
     "name": "stdout",
     "output_type": "stream",
     "text": [
      "Neighborhood | STD/MEAN = 0.36\n"
     ]
    },
    {
     "data": {
      "image/png": "[encoded data removed]",
      "text/plain": [
       "<Figure size 432x288 with 1 Axes>"
      ]
     },
     "metadata": {
      "needs_background": "light"
     },
     "output_type": "display_data"
    },
    {
     "name": "stdout",
     "output_type": "stream",
     "text": [
      "Condition1 | STD/MEAN = 0.19\n"
     ]
    },
    {
     "data": {
      "image/png": "[encoded data removed]",
      "text/plain": [
       "<Figure size 432x288 with 1 Axes>"
      ]
     },
     "metadata": {
      "needs_background": "light"
     },
     "output_type": "display_data"
    },
    {
     "name": "stdout",
     "output_type": "stream",
     "text": [
      "Condition2 | STD/MEAN = 0.47\n"
     ]
    },
    {
     "data": {
      "image/png": "[encoded data removed]",
      "text/plain": [
       "<Figure size 432x288 with 1 Axes>"
      ]
     },
     "metadata": {
      "needs_background": "light"
     },
     "output_type": "display_data"
    },
    {
     "name": "stdout",
     "output_type": "stream",
     "text": [
      "BldgType | STD/MEAN = 0.18\n"
     ]
    },
    {
     "data": {
      "image/png": "[encoded data removed]",
      "text/plain": [
       "<Figure size 432x288 with 1 Axes>"
      ]
     },
     "metadata": {
      "needs_background": "light"
     },
     "output_type": "display_data"
    },
    {
     "name": "stdout",
     "output_type": "stream",
     "text": [
      "HouseStyle | STD/MEAN = 0.22\n"
     ]
    },
    {
     "data": {
      "image/png": "[encoded data removed]",
      "text/plain": [
       "<Figure size 432x288 with 1 Axes>"
      ]
     },
     "metadata": {
      "needs_background": "light"
     },
     "output_type": "display_data"
    },
    {
     "name": "stdout",
     "output_type": "stream",
     "text": [
      "OverallQual | STD/MEAN = 0.71\n"
     ]
    },
    {
     "data": {
      "image/png": "[encoded data removed]",
      "text/plain": [
       "<Figure size 432x288 with 1 Axes>"
      ]
     },
     "metadata": {
      "needs_background": "light"
     },
     "output_type": "display_data"
    },
    {
     "name": "stdout",
     "output_type": "stream",
     "text": [
      "OverallCond | STD/MEAN = 0.33\n"
     ]
    },
    {
     "data": {
      "image/png": "[encoded data removed]",
      "text/plain": [
       "<Figure size 432x288 with 1 Axes>"
      ]
     },
     "metadata": {
      "needs_background": "light"
     },
     "output_type": "display_data"
    },
    {
     "name": "stdout",
     "output_type": "stream",
     "text": [
      "RoofStyle | STD/MEAN = 0.15\n"
     ]
    },
    {
     "data": {
      "image/png": "[encoded data removed]",
      "text/plain": [
       "<Figure size 432x288 with 1 Axes>"
      ]
     },
     "metadata": {
      "needs_background": "light"
     },
     "output_type": "display_data"
    },
    {
     "name": "stdout",
     "output_type": "stream",
     "text": [
      "RoofMatl | STD/MEAN = 0.37\n"
     ]
    },
    {
     "data": {
      "image/png": "[encoded data removed]",
      "text/plain": [
       "<Figure size 432x288 with 1 Axes>"
      ]
     },
     "metadata": {
      "needs_background": "light"
     },
     "output_type": "display_data"
    },
    {
     "name": "stdout",
     "output_type": "stream",
     "text": [
      "Exterior1st | STD/MEAN = 0.35\n"
     ]
    },
    {
     "data": {
      "image/png": "[encoded data removed]",
      "text/plain": [
       "<Figure size 432x288 with 1 Axes>"
      ]
     },
     "metadata": {
      "needs_background": "light"
     },
     "output_type": "display_data"
    },
    {
     "name": "stdout",
     "output_type": "stream",
     "text": [
      "Exterior2nd | STD/MEAN = 0.32\n"
     ]
    },
    {
     "data": {
      "image/png": "[encoded data removed]",
      "text/plain": [
       "<Figure size 432x288 with 1 Axes>"
      ]
     },
     "metadata": {
      "needs_background": "light"
     },
     "output_type": "display_data"
    },
    {
     "name": "stdout",
     "output_type": "stream",
     "text": [
      "MasVnrType | STD/MEAN = 0.25\n"
     ]
    },
    {
     "data": {
      "image/png": "[encoded data removed]",
      "text/plain": [
       "<Figure size 432x288 with 1 Axes>"
      ]
     },
     "metadata": {
      "needs_background": "light"
     },
     "output_type": "display_data"
    },
    {
     "name": "stdout",
     "output_type": "stream",
     "text": [
      "ExterQual | STD/MEAN = 0.59\n"
     ]
    },
    {
     "data": {
      "image/png": "[encoded data removed]",
      "text/plain": [
       "<Figure size 432x288 with 1 Axes>"
      ]
     },
     "metadata": {
      "needs_background": "light"
     },
     "output_type": "display_data"
    },
    {
     "name": "stdout",
     "output_type": "stream",
     "text": [
      "ExterCond | STD/MEAN = 0.37\n"
     ]
    },
    {
     "data": {
      "image/png": "[encoded data removed]",
      "text/plain": [
       "<Figure size 432x288 with 1 Axes>"
      ]
     },
     "metadata": {
      "needs_background": "light"
     },
     "output_type": "display_data"
    },
    {
     "name": "stdout",
     "output_type": "stream",
     "text": [
      "Foundation | STD/MEAN = 0.26\n"
     ]
    },
    {
     "data": {
      "image/png": "[encoded data removed]",
      "text/plain": [
       "<Figure size 432x288 with 1 Axes>"
      ]
     },
     "metadata": {
      "needs_background": "light"
     },
     "output_type": "display_data"
    },
    {
     "name": "stdout",
     "output_type": "stream",
     "text": [
      "BsmtQual | STD/MEAN = 0.51\n"
     ]
    },
    {
     "data": {
      "image/png": "[encoded data removed]",
      "text/plain": [
       "<Figure size 432x288 with 1 Axes>"
      ]
     },
     "metadata": {
      "needs_background": "light"
     },
     "output_type": "display_data"
    },
    {
     "name": "stdout",
     "output_type": "stream",
     "text": [
      "BsmtCond | STD/MEAN = 0.44\n"
     ]
    },
    {
     "data": {
      "image/png": "[encoded data removed]",
      "text/plain": [
       "<Figure size 432x288 with 1 Axes>"
      ]
     },
     "metadata": {
      "needs_background": "light"
     },
     "output_type": "display_data"
    },
    {
     "name": "stdout",
     "output_type": "stream",
     "text": [
      "BsmtExposure | STD/MEAN = 0.3\n"
     ]
    },
    {
     "data": {
      "image/png": "[encoded data removed]",
      "text/plain": [
       "<Figure size 432x288 with 1 Axes>"
      ]
     },
     "metadata": {
      "needs_background": "light"
     },
     "output_type": "display_data"
    },
    {
     "name": "stdout",
     "output_type": "stream",
     "text": [
      "BsmtFinType1 | STD/MEAN = 0.24\n"
     ]
    },
    {
     "data": {
      "image/png": "[encoded data removed]",
      "text/plain": [
       "<Figure size 432x288 with 1 Axes>"
      ]
     },
     "metadata": {
      "needs_background": "light"
     },
     "output_type": "display_data"
    },
    {
     "name": "stdout",
     "output_type": "stream",
     "text": [
      "BsmtFinType2 | STD/MEAN = 0.19\n"
     ]
    },
    {
     "data": {
      "image/png": "[encoded data removed]",
      "text/plain": [
       "<Figure size 432x288 with 1 Axes>"
      ]
     },
     "metadata": {
      "needs_background": "light"
     },
     "output_type": "display_data"
    },
    {
     "name": "stdout",
     "output_type": "stream",
     "text": [
      "Heating | STD/MEAN = 0.4\n"
     ]
    },
    {
     "data": {
      "image/png": "[encoded data removed]",
      "text/plain": [
       "<Figure size 432x288 with 1 Axes>"
      ]
     },
     "metadata": {
      "needs_background": "light"
     },
     "output_type": "display_data"
    },
    {
     "name": "stdout",
     "output_type": "stream",
     "text": [
      "HeatingQC | STD/MEAN = 0.32\n"
     ]
    },
    {
     "data": {
      "image/png": "[encoded data removed]",
      "text/plain": [
       "<Figure size 432x288 with 1 Axes>"
      ]
     },
     "metadata": {
      "needs_background": "light"
     },
     "output_type": "display_data"
    },
    {
     "name": "stdout",
     "output_type": "stream",
     "text": [
      "CentralAir | STD/MEAN = 0.39\n"
     ]
    },
    {
     "data": {
      "image/png": "[encoded data removed]",
      "text/plain": [
       "<Figure size 432x288 with 1 Axes>"
      ]
     },
     "metadata": {
      "needs_background": "light"
     },
     "output_type": "display_data"
    },
    {
     "name": "stdout",
     "output_type": "stream",
     "text": [
      "Electrical | STD/MEAN = 0.36\n"
     ]
    },
    {
     "data": {
      "image/png": "[encoded data removed]",
      "text/plain": [
       "<Figure size 432x288 with 1 Axes>"
      ]
     },
     "metadata": {
      "needs_background": "light"
     },
     "output_type": "display_data"
    },
    {
     "name": "stdout",
     "output_type": "stream",
     "text": [
      "KitchenQual | STD/MEAN = 0.5\n"
     ]
    },
    {
     "data": {
      "image/png": "[encoded data removed]",
      "text/plain": [
       "<Figure size 432x288 with 1 Axes>"
      ]
     },
     "metadata": {
      "needs_background": "light"
     },
     "output_type": "display_data"
    },
    {
     "name": "stdout",
     "output_type": "stream",
     "text": [
      "Functional | STD/MEAN = 0.22\n"
     ]
    },
    {
     "data": {
      "image/png": "[encoded data removed]",
      "text/plain": [
       "<Figure size 432x288 with 1 Axes>"
      ]
     },
     "metadata": {
      "needs_background": "light"
     },
     "output_type": "display_data"
    },
    {
     "name": "stdout",
     "output_type": "stream",
     "text": [
      "FireplaceQu | STD/MEAN = 0.38\n"
     ]
    },
    {
     "data": {
      "image/png": "[encoded data removed]",
      "text/plain": [
       "<Figure size 432x288 with 1 Axes>"
      ]
     },
     "metadata": {
      "needs_background": "light"
     },
     "output_type": "display_data"
    },
    {
     "name": "stdout",
     "output_type": "stream",
     "text": [
      "GarageType | STD/MEAN = 0.34\n"
     ]
    },
    {
     "data": {
      "image/png": "[encoded data removed]",
      "text/plain": [
       "<Figure size 432x288 with 1 Axes>"
      ]
     },
     "metadata": {
      "needs_background": "light"
     },
     "output_type": "display_data"
    },
    {
     "name": "stdout",
     "output_type": "stream",
     "text": [
      "GarageFinish | STD/MEAN = 0.35\n"
     ]
    },
    {
     "data": {
      "image/png": "[encoded data removed]",
      "text/plain": [
       "<Figure size 432x288 with 1 Axes>"
      ]
     },
     "metadata": {
      "needs_background": "light"
     },
     "output_type": "display_data"
    },
    {
     "name": "stdout",
     "output_type": "stream",
     "text": [
      "GarageQual | STD/MEAN = 0.38\n"
     ]
    },
    {
     "data": {
      "image/png": "[encoded data removed]",
      "text/plain": [
       "<Figure size 432x288 with 1 Axes>"
      ]
     },
     "metadata": {
      "needs_background": "light"
     },
     "output_type": "display_data"
    },
    {
     "name": "stdout",
     "output_type": "stream",
     "text": [
      "GarageCond | STD/MEAN = 0.28\n"
     ]
    },
    {
     "data": {
      "image/png": "[encoded data removed]",
      "text/plain": [
       "<Figure size 432x288 with 1 Axes>"
      ]
     },
     "metadata": {
      "needs_background": "light"
     },
     "output_type": "display_data"
    },
    {
     "name": "stdout",
     "output_type": "stream",
     "text": [
      "PavedDrive | STD/MEAN = 0.26\n"
     ]
    },
    {
     "data": {
      "image/png": "[encoded data removed]",
      "text/plain": [
       "<Figure size 432x288 with 1 Axes>"
      ]
     },
     "metadata": {
      "needs_background": "light"
     },
     "output_type": "display_data"
    },
    {
     "name": "stdout",
     "output_type": "stream",
     "text": [
      "PoolQC | STD/MEAN = 0.54\n"
     ]
    },
    {
     "data": {
      "image/png": "[encoded data removed]",
      "text/plain": [
       "<Figure size 432x288 with 1 Axes>"
      ]
     },
     "metadata": {
      "needs_background": "light"
     },
     "output_type": "display_data"
    },
    {
     "name": "stdout",
     "output_type": "stream",
     "text": [
      "Fence | STD/MEAN = 0.15\n"
     ]
    },
    {
     "data": {
      "image/png": "[encoded data removed]",
      "text/plain": [
       "<Figure size 432x288 with 1 Axes>"
      ]
     },
     "metadata": {
      "needs_background": "light"
     },
     "output_type": "display_data"
    },
    {
     "name": "stdout",
     "output_type": "stream",
     "text": [
      "MiscFeature | STD/MEAN = 0.33\n"
     ]
    },
    {
     "data": {
      "image/png": "[encoded data removed]",
      "text/plain": [
       "<Figure size 432x288 with 1 Axes>"
      ]
     },
     "metadata": {
      "needs_background": "light"
     },
     "output_type": "display_data"
    },
    {
     "name": "stdout",
     "output_type": "stream",
     "text": [
      "MoSold | STD/MEAN = 0.04\n"
     ]
    },
    {
     "data": {
      "image/png": "[encoded data removed]",
      "text/plain": [
       "<Figure size 432x288 with 1 Axes>"
      ]
     },
     "metadata": {
      "needs_background": "light"
     },
     "output_type": "display_data"
    },
    {
     "name": "stdout",
     "output_type": "stream",
     "text": [
      "YrSold | STD/MEAN = 0.02\n"
     ]
    },
    {
     "data": {
      "image/png": "[encoded data removed]",
      "text/plain": [
       "<Figure size 432x288 with 1 Axes>"
      ]
     },
     "metadata": {
      "needs_background": "light"
     },
     "output_type": "display_data"
    },
    {
     "name": "stdout",
     "output_type": "stream",
     "text": [
      "SaleType | STD/MEAN = 0.31\n"
     ]
    },
    {
     "data": {
      "image/png": "[encoded data removed]",
      "text/plain": [
       "<Figure size 432x288 with 1 Axes>"
      ]
     },
     "metadata": {
      "needs_background": "light"
     },
     "output_type": "display_data"
    },
    {
     "name": "stdout",
     "output_type": "stream",
     "text": [
      "SaleCondition | STD/MEAN = 0.33\n"
     ]
    },
    {
     "data": {
      "image/png": "[encoded data removed]",
      "text/plain": [
       "<Figure size 432x288 with 1 Axes>"
      ]
     },
     "metadata": {
      "needs_background": "light"
     },
     "output_type": "display_data"
    }
   ],
   "source": [
    "# looing for low STD/Mean as it mean low significance of feature\n",
    "for i in cat_features:\n",
    "    print(i, \n",
    "          '| STD/MEAN =', \n",
    "          (df.groupby([i])[['SalePrice']].mean().std()/df.groupby([i])[['SalePrice']].mean().mean()).values[0].round(2))\n",
    "    df.groupby([i])[['SalePrice']].mean().round().plot.bar()\n",
    "    plt.show()"
   ]
  },
  {
   "cell_type": "code",
   "execution_count": 21,
   "metadata": {},
   "outputs": [],
   "source": [
    "final_cat_features = [\n",
    "    'MSSubClass',\n",
    "    'MSZoning',\n",
    "    'Street',\n",
    "    'Alley',\n",
    "    'LotShape',\n",
    "    'LandContour',\n",
    "    'Utilities',\n",
    "    'LotConfig',\n",
    "#     'LandSlope', #low variance in price\n",
    "    'Neighborhood',\n",
    "    'Condition1',\n",
    "    'Condition2',\n",
    "    'BldgType',\n",
    "    'HouseStyle',\n",
    "    'OverallQual',\n",
    "    'OverallCond',\n",
    "    'RoofStyle',\n",
    "    'RoofMatl',\n",
    "    'Exterior1st',\n",
    "    'Exterior2nd',\n",
    "    'MasVnrType',\n",
    "    'ExterQual',\n",
    "    'ExterCond',\n",
    "    'Foundation',\n",
    "    'BsmtQual',\n",
    "    'BsmtCond',\n",
    "    'BsmtExposure',\n",
    "    'BsmtFinType1',\n",
    "    'BsmtFinType2',\n",
    "    'Heating',\n",
    "    'HeatingQC',\n",
    "    'CentralAir',\n",
    "    'Electrical',\n",
    "    'KitchenQual',\n",
    "    'Functional',\n",
    "    'FireplaceQu',\n",
    "    'GarageType',\n",
    "    'GarageFinish',\n",
    "    'GarageQual',\n",
    "    'GarageCond',\n",
    "    'PavedDrive',\n",
    "    'PoolQC',\n",
    "    'Fence',\n",
    "    'MiscFeature',\n",
    "#     'MoSold', # low variance in price\n",
    "#     'YrSold', #low variance in price, but have to think about adding inflation\n",
    "    'SaleType',\n",
    "    'SaleCondition'\n",
    "]"
   ]
  },
  {
   "cell_type": "code",
   "execution_count": 22,
   "metadata": {},
   "outputs": [],
   "source": [
    "for f in final_cat_features:\n",
    "    ohe = pd.get_dummies(df_united[f], prefix = f)\n",
    "    df_united = pd.concat([df_united, ohe], axis=1)\n",
    "    features.extend(ohe.columns)"
   ]
  },
  {
   "cell_type": "code",
   "execution_count": 23,
   "metadata": {},
   "outputs": [],
   "source": [
    "df_cleaned = df_united.copy()"
   ]
  },
  {
   "cell_type": "code",
   "execution_count": 24,
   "metadata": {},
   "outputs": [
    {
     "data": {
      "text/html": [
       "<div>\n",
       "<style scoped>\n",
       "    .dataframe tbody tr th:only-of-type {\n",
       "        vertical-align: middle;\n",
       "    }\n",
       "\n",
       "    .dataframe tbody tr th {\n",
       "        vertical-align: top;\n",
       "    }\n",
       "\n",
       "    .dataframe thead th {\n",
       "        text-align: right;\n",
       "    }\n",
       "</style>\n",
       "<table border=\"1\" class=\"dataframe\">\n",
       "  <thead>\n",
       "    <tr style=\"text-align: right;\">\n",
       "      <th></th>\n",
       "      <th>Id</th>\n",
       "      <th>LotFrontage</th>\n",
       "      <th>LotArea</th>\n",
       "      <th>YearBuilt</th>\n",
       "      <th>YearRemodAdd</th>\n",
       "      <th>MasVnrArea</th>\n",
       "      <th>BsmtFinSF1</th>\n",
       "      <th>BsmtFinSF2</th>\n",
       "      <th>BsmtUnfSF</th>\n",
       "      <th>TotalBsmtSF</th>\n",
       "      <th>...</th>\n",
       "      <th>SaleType_ConLw</th>\n",
       "      <th>SaleType_New</th>\n",
       "      <th>SaleType_Oth</th>\n",
       "      <th>SaleType_WD</th>\n",
       "      <th>SaleCondition_Abnorml</th>\n",
       "      <th>SaleCondition_AdjLand</th>\n",
       "      <th>SaleCondition_Alloca</th>\n",
       "      <th>SaleCondition_Family</th>\n",
       "      <th>SaleCondition_Normal</th>\n",
       "      <th>SaleCondition_Partial</th>\n",
       "    </tr>\n",
       "  </thead>\n",
       "  <tbody>\n",
       "    <tr>\n",
       "      <th>0</th>\n",
       "      <td>1</td>\n",
       "      <td>65.0</td>\n",
       "      <td>8450</td>\n",
       "      <td>2003</td>\n",
       "      <td>2003</td>\n",
       "      <td>196.0</td>\n",
       "      <td>706.0</td>\n",
       "      <td>0.0</td>\n",
       "      <td>150.0</td>\n",
       "      <td>856.0</td>\n",
       "      <td>...</td>\n",
       "      <td>0</td>\n",
       "      <td>0</td>\n",
       "      <td>0</td>\n",
       "      <td>1</td>\n",
       "      <td>0</td>\n",
       "      <td>0</td>\n",
       "      <td>0</td>\n",
       "      <td>0</td>\n",
       "      <td>1</td>\n",
       "      <td>0</td>\n",
       "    </tr>\n",
       "    <tr>\n",
       "      <th>1</th>\n",
       "      <td>2</td>\n",
       "      <td>80.0</td>\n",
       "      <td>9600</td>\n",
       "      <td>1976</td>\n",
       "      <td>1976</td>\n",
       "      <td>0.0</td>\n",
       "      <td>978.0</td>\n",
       "      <td>0.0</td>\n",
       "      <td>284.0</td>\n",
       "      <td>1262.0</td>\n",
       "      <td>...</td>\n",
       "      <td>0</td>\n",
       "      <td>0</td>\n",
       "      <td>0</td>\n",
       "      <td>1</td>\n",
       "      <td>0</td>\n",
       "      <td>0</td>\n",
       "      <td>0</td>\n",
       "      <td>0</td>\n",
       "      <td>1</td>\n",
       "      <td>0</td>\n",
       "    </tr>\n",
       "    <tr>\n",
       "      <th>2</th>\n",
       "      <td>3</td>\n",
       "      <td>68.0</td>\n",
       "      <td>11250</td>\n",
       "      <td>2001</td>\n",
       "      <td>2002</td>\n",
       "      <td>162.0</td>\n",
       "      <td>486.0</td>\n",
       "      <td>0.0</td>\n",
       "      <td>434.0</td>\n",
       "      <td>920.0</td>\n",
       "      <td>...</td>\n",
       "      <td>0</td>\n",
       "      <td>0</td>\n",
       "      <td>0</td>\n",
       "      <td>1</td>\n",
       "      <td>0</td>\n",
       "      <td>0</td>\n",
       "      <td>0</td>\n",
       "      <td>0</td>\n",
       "      <td>1</td>\n",
       "      <td>0</td>\n",
       "    </tr>\n",
       "    <tr>\n",
       "      <th>3</th>\n",
       "      <td>4</td>\n",
       "      <td>60.0</td>\n",
       "      <td>9550</td>\n",
       "      <td>1915</td>\n",
       "      <td>1970</td>\n",
       "      <td>0.0</td>\n",
       "      <td>216.0</td>\n",
       "      <td>0.0</td>\n",
       "      <td>540.0</td>\n",
       "      <td>756.0</td>\n",
       "      <td>...</td>\n",
       "      <td>0</td>\n",
       "      <td>0</td>\n",
       "      <td>0</td>\n",
       "      <td>1</td>\n",
       "      <td>1</td>\n",
       "      <td>0</td>\n",
       "      <td>0</td>\n",
       "      <td>0</td>\n",
       "      <td>0</td>\n",
       "      <td>0</td>\n",
       "    </tr>\n",
       "    <tr>\n",
       "      <th>4</th>\n",
       "      <td>5</td>\n",
       "      <td>84.0</td>\n",
       "      <td>14260</td>\n",
       "      <td>2000</td>\n",
       "      <td>2000</td>\n",
       "      <td>350.0</td>\n",
       "      <td>655.0</td>\n",
       "      <td>0.0</td>\n",
       "      <td>490.0</td>\n",
       "      <td>1145.0</td>\n",
       "      <td>...</td>\n",
       "      <td>0</td>\n",
       "      <td>0</td>\n",
       "      <td>0</td>\n",
       "      <td>1</td>\n",
       "      <td>0</td>\n",
       "      <td>0</td>\n",
       "      <td>0</td>\n",
       "      <td>0</td>\n",
       "      <td>1</td>\n",
       "      <td>0</td>\n",
       "    </tr>\n",
       "    <tr>\n",
       "      <th>...</th>\n",
       "      <td>...</td>\n",
       "      <td>...</td>\n",
       "      <td>...</td>\n",
       "      <td>...</td>\n",
       "      <td>...</td>\n",
       "      <td>...</td>\n",
       "      <td>...</td>\n",
       "      <td>...</td>\n",
       "      <td>...</td>\n",
       "      <td>...</td>\n",
       "      <td>...</td>\n",
       "      <td>...</td>\n",
       "      <td>...</td>\n",
       "      <td>...</td>\n",
       "      <td>...</td>\n",
       "      <td>...</td>\n",
       "      <td>...</td>\n",
       "      <td>...</td>\n",
       "      <td>...</td>\n",
       "      <td>...</td>\n",
       "      <td>...</td>\n",
       "    </tr>\n",
       "    <tr>\n",
       "      <th>1454</th>\n",
       "      <td>2915</td>\n",
       "      <td>21.0</td>\n",
       "      <td>1936</td>\n",
       "      <td>1970</td>\n",
       "      <td>1970</td>\n",
       "      <td>0.0</td>\n",
       "      <td>0.0</td>\n",
       "      <td>0.0</td>\n",
       "      <td>546.0</td>\n",
       "      <td>546.0</td>\n",
       "      <td>...</td>\n",
       "      <td>0</td>\n",
       "      <td>0</td>\n",
       "      <td>0</td>\n",
       "      <td>1</td>\n",
       "      <td>0</td>\n",
       "      <td>0</td>\n",
       "      <td>0</td>\n",
       "      <td>0</td>\n",
       "      <td>1</td>\n",
       "      <td>0</td>\n",
       "    </tr>\n",
       "    <tr>\n",
       "      <th>1455</th>\n",
       "      <td>2916</td>\n",
       "      <td>21.0</td>\n",
       "      <td>1894</td>\n",
       "      <td>1970</td>\n",
       "      <td>1970</td>\n",
       "      <td>0.0</td>\n",
       "      <td>252.0</td>\n",
       "      <td>0.0</td>\n",
       "      <td>294.0</td>\n",
       "      <td>546.0</td>\n",
       "      <td>...</td>\n",
       "      <td>0</td>\n",
       "      <td>0</td>\n",
       "      <td>0</td>\n",
       "      <td>1</td>\n",
       "      <td>1</td>\n",
       "      <td>0</td>\n",
       "      <td>0</td>\n",
       "      <td>0</td>\n",
       "      <td>0</td>\n",
       "      <td>0</td>\n",
       "    </tr>\n",
       "    <tr>\n",
       "      <th>1456</th>\n",
       "      <td>2917</td>\n",
       "      <td>160.0</td>\n",
       "      <td>20000</td>\n",
       "      <td>1960</td>\n",
       "      <td>1996</td>\n",
       "      <td>0.0</td>\n",
       "      <td>1224.0</td>\n",
       "      <td>0.0</td>\n",
       "      <td>0.0</td>\n",
       "      <td>1224.0</td>\n",
       "      <td>...</td>\n",
       "      <td>0</td>\n",
       "      <td>0</td>\n",
       "      <td>0</td>\n",
       "      <td>1</td>\n",
       "      <td>1</td>\n",
       "      <td>0</td>\n",
       "      <td>0</td>\n",
       "      <td>0</td>\n",
       "      <td>0</td>\n",
       "      <td>0</td>\n",
       "    </tr>\n",
       "    <tr>\n",
       "      <th>1457</th>\n",
       "      <td>2918</td>\n",
       "      <td>62.0</td>\n",
       "      <td>10441</td>\n",
       "      <td>1992</td>\n",
       "      <td>1992</td>\n",
       "      <td>0.0</td>\n",
       "      <td>337.0</td>\n",
       "      <td>0.0</td>\n",
       "      <td>575.0</td>\n",
       "      <td>912.0</td>\n",
       "      <td>...</td>\n",
       "      <td>0</td>\n",
       "      <td>0</td>\n",
       "      <td>0</td>\n",
       "      <td>1</td>\n",
       "      <td>0</td>\n",
       "      <td>0</td>\n",
       "      <td>0</td>\n",
       "      <td>0</td>\n",
       "      <td>1</td>\n",
       "      <td>0</td>\n",
       "    </tr>\n",
       "    <tr>\n",
       "      <th>1458</th>\n",
       "      <td>2919</td>\n",
       "      <td>74.0</td>\n",
       "      <td>9627</td>\n",
       "      <td>1993</td>\n",
       "      <td>1994</td>\n",
       "      <td>94.0</td>\n",
       "      <td>758.0</td>\n",
       "      <td>0.0</td>\n",
       "      <td>238.0</td>\n",
       "      <td>996.0</td>\n",
       "      <td>...</td>\n",
       "      <td>0</td>\n",
       "      <td>0</td>\n",
       "      <td>0</td>\n",
       "      <td>1</td>\n",
       "      <td>0</td>\n",
       "      <td>0</td>\n",
       "      <td>0</td>\n",
       "      <td>0</td>\n",
       "      <td>1</td>\n",
       "      <td>0</td>\n",
       "    </tr>\n",
       "  </tbody>\n",
       "</table>\n",
       "<p>2919 rows × 332 columns</p>\n",
       "</div>"
      ],
      "text/plain": [
       "        Id  LotFrontage  LotArea  YearBuilt  YearRemodAdd  MasVnrArea  \\\n",
       "0        1         65.0     8450       2003          2003       196.0   \n",
       "1        2         80.0     9600       1976          1976         0.0   \n",
       "2        3         68.0    11250       2001          2002       162.0   \n",
       "3        4         60.0     9550       1915          1970         0.0   \n",
       "4        5         84.0    14260       2000          2000       350.0   \n",
       "...    ...          ...      ...        ...           ...         ...   \n",
       "1454  2915         21.0     1936       1970          1970         0.0   \n",
       "1455  2916         21.0     1894       1970          1970         0.0   \n",
       "1456  2917        160.0    20000       1960          1996         0.0   \n",
       "1457  2918         62.0    10441       1992          1992         0.0   \n",
       "1458  2919         74.0     9627       1993          1994        94.0   \n",
       "\n",
       "      BsmtFinSF1  BsmtFinSF2  BsmtUnfSF  TotalBsmtSF  ...  SaleType_ConLw  \\\n",
       "0          706.0         0.0      150.0        856.0  ...               0   \n",
       "1          978.0         0.0      284.0       1262.0  ...               0   \n",
       "2          486.0         0.0      434.0        920.0  ...               0   \n",
       "3          216.0         0.0      540.0        756.0  ...               0   \n",
       "4          655.0         0.0      490.0       1145.0  ...               0   \n",
       "...          ...         ...        ...          ...  ...             ...   \n",
       "1454         0.0         0.0      546.0        546.0  ...               0   \n",
       "1455       252.0         0.0      294.0        546.0  ...               0   \n",
       "1456      1224.0         0.0        0.0       1224.0  ...               0   \n",
       "1457       337.0         0.0      575.0        912.0  ...               0   \n",
       "1458       758.0         0.0      238.0        996.0  ...               0   \n",
       "\n",
       "      SaleType_New  SaleType_Oth  SaleType_WD  SaleCondition_Abnorml  \\\n",
       "0                0             0            1                      0   \n",
       "1                0             0            1                      0   \n",
       "2                0             0            1                      0   \n",
       "3                0             0            1                      1   \n",
       "4                0             0            1                      0   \n",
       "...            ...           ...          ...                    ...   \n",
       "1454             0             0            1                      0   \n",
       "1455             0             0            1                      1   \n",
       "1456             0             0            1                      1   \n",
       "1457             0             0            1                      0   \n",
       "1458             0             0            1                      0   \n",
       "\n",
       "      SaleCondition_AdjLand  SaleCondition_Alloca  SaleCondition_Family  \\\n",
       "0                         0                     0                     0   \n",
       "1                         0                     0                     0   \n",
       "2                         0                     0                     0   \n",
       "3                         0                     0                     0   \n",
       "4                         0                     0                     0   \n",
       "...                     ...                   ...                   ...   \n",
       "1454                      0                     0                     0   \n",
       "1455                      0                     0                     0   \n",
       "1456                      0                     0                     0   \n",
       "1457                      0                     0                     0   \n",
       "1458                      0                     0                     0   \n",
       "\n",
       "      SaleCondition_Normal  SaleCondition_Partial  \n",
       "0                        1                      0  \n",
       "1                        1                      0  \n",
       "2                        1                      0  \n",
       "3                        0                      0  \n",
       "4                        1                      0  \n",
       "...                    ...                    ...  \n",
       "1454                     1                      0  \n",
       "1455                     0                      0  \n",
       "1456                     0                      0  \n",
       "1457                     1                      0  \n",
       "1458                     1                      0  \n",
       "\n",
       "[2919 rows x 332 columns]"
      ]
     },
     "execution_count": 24,
     "metadata": {},
     "output_type": "execute_result"
    }
   ],
   "source": [
    "for f in final_cat_features:\n",
    "    del df_cleaned[f]\n",
    "del df_cleaned['LandSlope']\n",
    "del df_cleaned['MoSold']\n",
    "del df_cleaned['YrSold']\n",
    "del df_cleaned['MSZoning_Undefined']\n",
    "del df_cleaned['Utilities_Undefined']\n",
    "del df_cleaned['Exterior1st_Undefined']\n",
    "del df_cleaned['Exterior2nd_Undefined']\n",
    "del df_cleaned['Electrical_Undefined']\n",
    "del df_cleaned['KitchenQual_Undefined']\n",
    "df_cleaned"
   ]
  },
  {
   "cell_type": "markdown",
   "metadata": {},
   "source": [
    "### 'LotFrontage' processing"
   ]
  },
  {
   "cell_type": "code",
   "execution_count": 25,
   "metadata": {},
   "outputs": [],
   "source": [
    "df_cleaned_temp = df_cleaned.dropna().copy()"
   ]
  },
  {
   "cell_type": "code",
   "execution_count": 26,
   "metadata": {},
   "outputs": [],
   "source": [
    "temp_target = 'LotFrontage'\n",
    "\n",
    "temp_features = [\n",
    "     'LotArea',\n",
    "     'YearBuilt',\n",
    "     'YearRemodAdd',\n",
    "     'MasVnrArea',\n",
    "     'BsmtFinSF1',\n",
    "     'BsmtFinSF2',\n",
    "     'BsmtUnfSF',\n",
    "     'TotalBsmtSF',\n",
    "     '1stFlrSF',\n",
    "     '2ndFlrSF',\n",
    "     'LowQualFinSF',\n",
    "     'GrLivArea',\n",
    "     'BsmtFullBath',\n",
    "     'BsmtHalfBath',\n",
    "     'FullBath',\n",
    "     'HalfBath',\n",
    "     'BedroomAbvGr',\n",
    "     'KitchenAbvGr',\n",
    "     'TotRmsAbvGrd',\n",
    "     'Fireplaces',\n",
    "     'GarageYrBlt',\n",
    "     'GarageCars',\n",
    "     'GarageArea',\n",
    "     'WoodDeckSF',\n",
    "     'OpenPorchSF',\n",
    "     'EnclosedPorch',\n",
    "     '3SsnPorch',\n",
    "     'ScreenPorch',\n",
    "     'PoolArea',\n",
    "     'MiscVal',\n",
    "     'MSSubClass_20',\n",
    "     'MSSubClass_30',\n",
    "     'MSSubClass_40',\n",
    "     'MSSubClass_45',\n",
    "     'MSSubClass_50',\n",
    "     'MSSubClass_60',\n",
    "     'MSSubClass_70',\n",
    "     'MSSubClass_75',\n",
    "     'MSSubClass_80',\n",
    "     'MSSubClass_85',\n",
    "     'MSSubClass_90',\n",
    "     'MSSubClass_120',\n",
    "     'MSSubClass_150',\n",
    "     'MSSubClass_160',\n",
    "     'MSSubClass_180',\n",
    "     'MSSubClass_190',\n",
    "     'MSZoning_C (all)',\n",
    "     'MSZoning_FV',\n",
    "     'MSZoning_RH',\n",
    "     'MSZoning_RL',\n",
    "     'MSZoning_RM',\n",
    "     'Street_Grvl',\n",
    "     'Street_Pave',\n",
    "     'Alley_Grvl',\n",
    "     'Alley_No_alley_access',\n",
    "     'Alley_Pave',\n",
    "     'LotShape_IR1',\n",
    "     'LotShape_IR2',\n",
    "     'LotShape_IR3',\n",
    "     'LotShape_Reg',\n",
    "     'LandContour_Bnk',\n",
    "     'LandContour_HLS',\n",
    "     'LandContour_Low',\n",
    "     'LandContour_Lvl',\n",
    "     'Utilities_AllPub',\n",
    "     'Utilities_NoSeWa',\n",
    "     'LotConfig_Corner',\n",
    "     'LotConfig_CulDSac',\n",
    "     'LotConfig_FR2',\n",
    "     'LotConfig_FR3',\n",
    "     'LotConfig_Inside',\n",
    "     'Neighborhood_Blmngtn',\n",
    "     'Neighborhood_Blueste',\n",
    "     'Neighborhood_BrDale',\n",
    "     'Neighborhood_BrkSide',\n",
    "     'Neighborhood_ClearCr',\n",
    "     'Neighborhood_CollgCr',\n",
    "     'Neighborhood_Crawfor',\n",
    "     'Neighborhood_Edwards',\n",
    "     'Neighborhood_Gilbert',\n",
    "     'Neighborhood_IDOTRR',\n",
    "     'Neighborhood_MeadowV',\n",
    "     'Neighborhood_Mitchel',\n",
    "     'Neighborhood_NAmes',\n",
    "     'Neighborhood_NPkVill',\n",
    "     'Neighborhood_NWAmes',\n",
    "     'Neighborhood_NoRidge',\n",
    "     'Neighborhood_NridgHt',\n",
    "     'Neighborhood_OldTown',\n",
    "     'Neighborhood_SWISU',\n",
    "     'Neighborhood_Sawyer',\n",
    "     'Neighborhood_SawyerW',\n",
    "     'Neighborhood_Somerst',\n",
    "     'Neighborhood_StoneBr',\n",
    "     'Neighborhood_Timber',\n",
    "     'Neighborhood_Veenker',\n",
    "     'Condition1_Artery',\n",
    "     'Condition1_Feedr',\n",
    "     'Condition1_Norm',\n",
    "     'Condition1_PosA',\n",
    "     'Condition1_PosN',\n",
    "     'Condition1_RRAe',\n",
    "     'Condition1_RRAn',\n",
    "     'Condition1_RRNe',\n",
    "     'Condition1_RRNn',\n",
    "     'Condition2_Artery',\n",
    "     'Condition2_Feedr',\n",
    "     'Condition2_Norm',\n",
    "     'Condition2_PosA',\n",
    "     'Condition2_PosN',\n",
    "     'Condition2_RRAe',\n",
    "     'Condition2_RRAn',\n",
    "     'Condition2_RRNn',\n",
    "     'BldgType_1Fam',\n",
    "     'BldgType_2fmCon',\n",
    "     'BldgType_Duplex',\n",
    "     'BldgType_Twnhs',\n",
    "     'BldgType_TwnhsE',\n",
    "     'HouseStyle_1.5Fin',\n",
    "     'HouseStyle_1.5Unf',\n",
    "     'HouseStyle_1Story',\n",
    "     'HouseStyle_2.5Fin',\n",
    "     'HouseStyle_2.5Unf',\n",
    "     'HouseStyle_2Story',\n",
    "     'HouseStyle_SFoyer',\n",
    "     'HouseStyle_SLvl',\n",
    "     'OverallQual_1',\n",
    "     'OverallQual_2',\n",
    "     'OverallQual_3',\n",
    "     'OverallQual_4',\n",
    "     'OverallQual_5',\n",
    "     'OverallQual_6',\n",
    "     'OverallQual_7',\n",
    "     'OverallQual_8',\n",
    "     'OverallQual_9',\n",
    "     'OverallQual_10',\n",
    "     'OverallCond_1',\n",
    "     'OverallCond_2',\n",
    "     'OverallCond_3',\n",
    "     'OverallCond_4',\n",
    "     'OverallCond_5',\n",
    "     'OverallCond_6',\n",
    "     'OverallCond_7',\n",
    "     'OverallCond_8',\n",
    "     'OverallCond_9',\n",
    "     'RoofStyle_Flat',\n",
    "     'RoofStyle_Gable',\n",
    "     'RoofStyle_Gambrel',\n",
    "     'RoofStyle_Hip',\n",
    "     'RoofStyle_Mansard',\n",
    "     'RoofStyle_Shed',\n",
    "     'RoofMatl_ClyTile',\n",
    "     'RoofMatl_CompShg',\n",
    "     'RoofMatl_Membran',\n",
    "     'RoofMatl_Metal',\n",
    "     'RoofMatl_Roll',\n",
    "     'RoofMatl_Tar&Grv',\n",
    "     'RoofMatl_WdShake',\n",
    "     'RoofMatl_WdShngl',\n",
    "     'Exterior1st_AsbShng',\n",
    "     'Exterior1st_AsphShn',\n",
    "     'Exterior1st_BrkComm',\n",
    "     'Exterior1st_BrkFace',\n",
    "     'Exterior1st_CBlock',\n",
    "     'Exterior1st_CemntBd',\n",
    "     'Exterior1st_HdBoard',\n",
    "     'Exterior1st_ImStucc',\n",
    "     'Exterior1st_MetalSd',\n",
    "     'Exterior1st_Plywood',\n",
    "     'Exterior1st_Stone',\n",
    "     'Exterior1st_Stucco',\n",
    "     'Exterior1st_VinylSd',\n",
    "     'Exterior1st_Wd Sdng',\n",
    "     'Exterior1st_WdShing',\n",
    "     'Exterior2nd_AsbShng',\n",
    "     'Exterior2nd_AsphShn',\n",
    "     'Exterior2nd_Brk Cmn',\n",
    "     'Exterior2nd_BrkFace',\n",
    "     'Exterior2nd_CBlock',\n",
    "     'Exterior2nd_CmentBd',\n",
    "     'Exterior2nd_HdBoard',\n",
    "     'Exterior2nd_ImStucc',\n",
    "     'Exterior2nd_MetalSd',\n",
    "     'Exterior2nd_Other',\n",
    "     'Exterior2nd_Plywood',\n",
    "     'Exterior2nd_Stone',\n",
    "     'Exterior2nd_Stucco',\n",
    "     'Exterior2nd_VinylSd',\n",
    "     'Exterior2nd_Wd Sdng',\n",
    "     'Exterior2nd_Wd Shng',\n",
    "     'MasVnrType_BrkCmn',\n",
    "     'MasVnrType_BrkFace',\n",
    "     'MasVnrType_No_Masonry_veneer',\n",
    "     'MasVnrType_None',\n",
    "     'MasVnrType_Stone',\n",
    "     'ExterQual_Ex',\n",
    "     'ExterQual_Fa',\n",
    "     'ExterQual_Gd',\n",
    "     'ExterQual_TA',\n",
    "     'ExterCond_Ex',\n",
    "     'ExterCond_Fa',\n",
    "     'ExterCond_Gd',\n",
    "     'ExterCond_Po',\n",
    "     'ExterCond_TA',\n",
    "     'Foundation_BrkTil',\n",
    "     'Foundation_CBlock',\n",
    "     'Foundation_PConc',\n",
    "     'Foundation_Slab',\n",
    "     'Foundation_Stone',\n",
    "     'Foundation_Wood',\n",
    "     'BsmtQual_Ex',\n",
    "     'BsmtQual_Fa',\n",
    "     'BsmtQual_Gd',\n",
    "     'BsmtQual_No_basement',\n",
    "     'BsmtQual_TA',\n",
    "     'BsmtCond_Fa',\n",
    "     'BsmtCond_Gd',\n",
    "     'BsmtCond_No_basement',\n",
    "     'BsmtCond_Po',\n",
    "     'BsmtCond_TA',\n",
    "     'BsmtExposure_Av',\n",
    "     'BsmtExposure_Gd',\n",
    "     'BsmtExposure_Mn',\n",
    "     'BsmtExposure_No',\n",
    "     'BsmtExposure_No_basement',\n",
    "     'BsmtFinType1_ALQ',\n",
    "     'BsmtFinType1_BLQ',\n",
    "     'BsmtFinType1_GLQ',\n",
    "     'BsmtFinType1_LwQ',\n",
    "     'BsmtFinType1_No_basement',\n",
    "     'BsmtFinType1_Rec',\n",
    "     'BsmtFinType1_Unf',\n",
    "     'BsmtFinType2_ALQ',\n",
    "     'BsmtFinType2_BLQ',\n",
    "     'BsmtFinType2_GLQ',\n",
    "     'BsmtFinType2_LwQ',\n",
    "     'BsmtFinType2_No_basement',\n",
    "     'BsmtFinType2_Rec',\n",
    "     'BsmtFinType2_Unf',\n",
    "     'Heating_Floor',\n",
    "     'Heating_GasA',\n",
    "     'Heating_GasW',\n",
    "     'Heating_Grav',\n",
    "     'Heating_OthW',\n",
    "     'Heating_Wall',\n",
    "     'HeatingQC_Ex',\n",
    "     'HeatingQC_Fa',\n",
    "     'HeatingQC_Gd',\n",
    "     'HeatingQC_Po',\n",
    "     'HeatingQC_TA',\n",
    "     'CentralAir_N',\n",
    "     'CentralAir_Y',\n",
    "     'Electrical_FuseA',\n",
    "     'Electrical_FuseF',\n",
    "     'Electrical_FuseP',\n",
    "     'Electrical_Mix',\n",
    "     'Electrical_SBrkr',\n",
    "     'KitchenQual_Ex',\n",
    "     'KitchenQual_Fa',\n",
    "     'KitchenQual_Gd',\n",
    "     'KitchenQual_TA',\n",
    "     'Functional_Maj1',\n",
    "     'Functional_Maj2',\n",
    "     'Functional_Min1',\n",
    "     'Functional_Min2',\n",
    "     'Functional_Mod',\n",
    "     'Functional_Sev',\n",
    "     'Functional_Typ',\n",
    "     'FireplaceQu_Ex',\n",
    "     'FireplaceQu_Fa',\n",
    "     'FireplaceQu_Gd',\n",
    "     'FireplaceQu_No_basement',\n",
    "     'FireplaceQu_Po',\n",
    "     'FireplaceQu_TA',\n",
    "     'GarageType_2Types',\n",
    "     'GarageType_Attchd',\n",
    "     'GarageType_Basment',\n",
    "     'GarageType_BuiltIn',\n",
    "     'GarageType_CarPort',\n",
    "     'GarageType_Detchd',\n",
    "     'GarageType_No_garage',\n",
    "     'GarageFinish_Fin',\n",
    "     'GarageFinish_No_garage',\n",
    "     'GarageFinish_RFn',\n",
    "     'GarageFinish_Unf',\n",
    "     'GarageQual_Ex',\n",
    "     'GarageQual_Fa',\n",
    "     'GarageQual_Gd',\n",
    "     'GarageQual_No_garage',\n",
    "     'GarageQual_Po',\n",
    "     'GarageQual_TA',\n",
    "     'GarageCond_Ex',\n",
    "     'GarageCond_Fa',\n",
    "     'GarageCond_Gd',\n",
    "     'GarageCond_No_garage',\n",
    "     'GarageCond_Po',\n",
    "     'GarageCond_TA',\n",
    "     'PavedDrive_N',\n",
    "     'PavedDrive_P',\n",
    "     'PavedDrive_Y',\n",
    "     'PoolQC_Ex',\n",
    "     'PoolQC_Fa',\n",
    "     'PoolQC_Gd',\n",
    "     'PoolQC_No_pool',\n",
    "     'Fence_GdPrv',\n",
    "     'Fence_GdWo',\n",
    "     'Fence_MnPrv',\n",
    "     'Fence_MnWw',\n",
    "     'Fence_No_fence',\n",
    "     'MiscFeature_Gar2',\n",
    "     'MiscFeature_No_MiscFeature',\n",
    "     'MiscFeature_Othr',\n",
    "     'MiscFeature_Shed',\n",
    "     'MiscFeature_TenC',\n",
    "     'SaleType_COD',\n",
    "     'SaleType_CWD',\n",
    "     'SaleType_Con',\n",
    "     'SaleType_ConLD',\n",
    "     'SaleType_ConLI',\n",
    "     'SaleType_ConLw',\n",
    "     'SaleType_New',\n",
    "     'SaleType_Oth',\n",
    "     'SaleType_WD',\n",
    "     'SaleCondition_Abnorml',\n",
    "     'SaleCondition_AdjLand',\n",
    "     'SaleCondition_Alloca',\n",
    "     'SaleCondition_Family',\n",
    "     'SaleCondition_Normal',\n",
    "     'SaleCondition_Partial'\n",
    "]"
   ]
  },
  {
   "cell_type": "code",
   "execution_count": 27,
   "metadata": {},
   "outputs": [],
   "source": [
    "x = df_cleaned_temp[temp_features].to_numpy()\n",
    "y = df_cleaned_temp[temp_target].to_numpy()"
   ]
  },
  {
   "cell_type": "code",
   "execution_count": 28,
   "metadata": {},
   "outputs": [
    {
     "data": {
      "text/plain": [
       "(2433, 329)"
      ]
     },
     "execution_count": 28,
     "metadata": {},
     "output_type": "execute_result"
    }
   ],
   "source": [
    "from sklearn.preprocessing import StandardScaler\n",
    "\n",
    "temp_scaler = StandardScaler()\n",
    "x_norm = temp_scaler.fit_transform(x)\n",
    "x_norm.shape"
   ]
  },
  {
   "cell_type": "code",
   "execution_count": 29,
   "metadata": {},
   "outputs": [],
   "source": [
    "from sklearn.linear_model import LassoCV\n",
    "from sklearn.model_selection import train_test_split\n",
    "from sklearn.metrics import mean_squared_error"
   ]
  },
  {
   "cell_type": "code",
   "execution_count": 30,
   "metadata": {},
   "outputs": [],
   "source": [
    "x_train, x_test, y_train, y_test = train_test_split(x_norm, y, test_size=0.25, random_state=17)"
   ]
  },
  {
   "cell_type": "code",
   "execution_count": 31,
   "metadata": {},
   "outputs": [],
   "source": [
    "Lasso = LassoCV()"
   ]
  },
  {
   "cell_type": "code",
   "execution_count": 32,
   "metadata": {},
   "outputs": [
    {
     "data": {
      "text/plain": [
       "LassoCV()"
      ]
     },
     "execution_count": 32,
     "metadata": {},
     "output_type": "execute_result"
    }
   ],
   "source": [
    "Lasso.fit(x_train, y_train)"
   ]
  },
  {
   "cell_type": "code",
   "execution_count": 33,
   "metadata": {},
   "outputs": [
    {
     "name": "stdout",
     "output_type": "stream",
     "text": [
      "\n",
      "    \n",
      "    Score:\n",
      "    train 13.380\n",
      "    test 15.409  \n",
      "\n",
      "\n"
     ]
    },
    {
     "data": {
      "text/html": [
       "<div>\n",
       "<style scoped>\n",
       "    .dataframe tbody tr th:only-of-type {\n",
       "        vertical-align: middle;\n",
       "    }\n",
       "\n",
       "    .dataframe tbody tr th {\n",
       "        vertical-align: top;\n",
       "    }\n",
       "\n",
       "    .dataframe thead th {\n",
       "        text-align: right;\n",
       "    }\n",
       "</style>\n",
       "<table border=\"1\" class=\"dataframe\">\n",
       "  <thead>\n",
       "    <tr style=\"text-align: right;\">\n",
       "      <th></th>\n",
       "      <th>0</th>\n",
       "      <th>1</th>\n",
       "    </tr>\n",
       "  </thead>\n",
       "  <tbody>\n",
       "    <tr>\n",
       "      <th>0</th>\n",
       "      <td>LotArea</td>\n",
       "      <td>7.121325</td>\n",
       "    </tr>\n",
       "    <tr>\n",
       "      <th>67</th>\n",
       "      <td>LotConfig_CulDSac</td>\n",
       "      <td>-4.559910</td>\n",
       "    </tr>\n",
       "    <tr>\n",
       "      <th>117</th>\n",
       "      <td>BldgType_TwnhsE</td>\n",
       "      <td>-4.113110</td>\n",
       "    </tr>\n",
       "    <tr>\n",
       "      <th>116</th>\n",
       "      <td>BldgType_Twnhs</td>\n",
       "      <td>-3.696203</td>\n",
       "    </tr>\n",
       "    <tr>\n",
       "      <th>66</th>\n",
       "      <td>LotConfig_Corner</td>\n",
       "      <td>3.591324</td>\n",
       "    </tr>\n",
       "    <tr>\n",
       "      <th>...</th>\n",
       "      <td>...</td>\n",
       "      <td>...</td>\n",
       "    </tr>\n",
       "    <tr>\n",
       "      <th>147</th>\n",
       "      <td>RoofStyle_Gambrel</td>\n",
       "      <td>-0.000000</td>\n",
       "    </tr>\n",
       "    <tr>\n",
       "      <th>148</th>\n",
       "      <td>RoofStyle_Hip</td>\n",
       "      <td>0.000000</td>\n",
       "    </tr>\n",
       "    <tr>\n",
       "      <th>149</th>\n",
       "      <td>RoofStyle_Mansard</td>\n",
       "      <td>0.000000</td>\n",
       "    </tr>\n",
       "    <tr>\n",
       "      <th>4</th>\n",
       "      <td>BsmtFinSF1</td>\n",
       "      <td>0.000000</td>\n",
       "    </tr>\n",
       "    <tr>\n",
       "      <th>328</th>\n",
       "      <td>SaleCondition_Partial</td>\n",
       "      <td>0.000000</td>\n",
       "    </tr>\n",
       "  </tbody>\n",
       "</table>\n",
       "<p>329 rows × 2 columns</p>\n",
       "</div>"
      ],
      "text/plain": [
       "                         0         1\n",
       "0                  LotArea  7.121325\n",
       "67       LotConfig_CulDSac -4.559910\n",
       "117        BldgType_TwnhsE -4.113110\n",
       "116         BldgType_Twnhs -3.696203\n",
       "66        LotConfig_Corner  3.591324\n",
       "..                     ...       ...\n",
       "147      RoofStyle_Gambrel -0.000000\n",
       "148          RoofStyle_Hip  0.000000\n",
       "149      RoofStyle_Mansard  0.000000\n",
       "4               BsmtFinSF1  0.000000\n",
       "328  SaleCondition_Partial  0.000000\n",
       "\n",
       "[329 rows x 2 columns]"
      ]
     },
     "execution_count": 33,
     "metadata": {},
     "output_type": "execute_result"
    }
   ],
   "source": [
    "print(f'''\n",
    "    \n",
    "    Score:\n",
    "    train {mean_squared_error(y_train, Lasso.predict(x_train))**0.5:.3f}\n",
    "    test {mean_squared_error(y_test, Lasso.predict(x_test))**0.5:.3f}  \n",
    "\n",
    "''')\n",
    "\n",
    "pd.DataFrame(zip(temp_features, Lasso.coef_)).sort_values(by=1, key=lambda r: -abs(r))\n",
    "\n",
    "# Mean square error rooted with all features:\n",
    "# train 13.380\n",
    "# test 15.409  "
   ]
  },
  {
   "cell_type": "code",
   "execution_count": 34,
   "metadata": {},
   "outputs": [
    {
     "data": {
      "text/plain": [
       "LassoCV()"
      ]
     },
     "execution_count": 34,
     "metadata": {},
     "output_type": "execute_result"
    }
   ],
   "source": [
    "Lasso.fit(x_norm, y)"
   ]
  },
  {
   "cell_type": "code",
   "execution_count": 35,
   "metadata": {},
   "outputs": [],
   "source": [
    "df_cleaned['LotFrontage_predicted'] = Lasso.predict(temp_scaler.transform(df_cleaned[temp_features].to_numpy()))"
   ]
  },
  {
   "cell_type": "code",
   "execution_count": 36,
   "metadata": {},
   "outputs": [],
   "source": [
    "df_cleaned['LotFrontage'].fillna(df_cleaned['LotFrontage_predicted'], inplace = True)\n",
    "del df_cleaned['LotFrontage_predicted']"
   ]
  },
  {
   "cell_type": "markdown",
   "metadata": {},
   "source": [
    "### Saving"
   ]
  },
  {
   "cell_type": "code",
   "execution_count": 37,
   "metadata": {},
   "outputs": [],
   "source": [
    "df_cleaned = df_cleaned.astype('float64')"
   ]
  },
  {
   "cell_type": "code",
   "execution_count": 38,
   "metadata": {},
   "outputs": [],
   "source": [
    "df_cleaned.to_csv('./house_prices_united_cleaned_data.csv', index=False)"
   ]
  }
 ],
 "metadata": {
  "kernelspec": {
   "display_name": "Python 3",
   "language": "python",
   "name": "python3"
  },
  "language_info": {
   "codemirror_mode": {
    "name": "ipython",
    "version": 3
   },
   "file_extension": ".py",
   "mimetype": "text/x-python",
   "name": "python",
   "nbconvert_exporter": "python",
   "pygments_lexer": "ipython3",
   "version": "3.8.5"
  }
 },
 "nbformat": 4,
 "nbformat_minor": 4
}
